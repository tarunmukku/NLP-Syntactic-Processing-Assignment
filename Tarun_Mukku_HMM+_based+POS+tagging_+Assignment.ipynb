{
  "nbformat": 4,
  "nbformat_minor": 0,
  "metadata": {
    "kernelspec": {
      "display_name": "Python 3",
      "language": "python",
      "name": "python3"
    },
    "language_info": {
      "codemirror_mode": {
        "name": "ipython",
        "version": 3
      },
      "file_extension": ".py",
      "mimetype": "text/x-python",
      "name": "python",
      "nbconvert_exporter": "python",
      "pygments_lexer": "ipython3",
      "version": "3.6.4"
    },
    "colab": {
      "name": "Tarun_Mukku-HMM+-based+POS+tagging-+Assignment.ipynb",
      "provenance": []
    }
  },
  "cells": [
    {
      "cell_type": "markdown",
      "metadata": {
        "id": "n4lF7jDbt4be"
      },
      "source": [
        "## POS tagging using modified Viterbi"
      ]
    },
    {
      "cell_type": "markdown",
      "metadata": {
        "id": "vmVEnaL9t4bg"
      },
      "source": [
        "### Data Preparation"
      ]
    },
    {
      "cell_type": "code",
      "metadata": {
        "colab": {
          "base_uri": "https://localhost:8080/"
        },
        "id": "XK4wWmE-t4bh",
        "outputId": "78b71fcb-be54-49ca-afb6-b51229f426c1"
      },
      "source": [
        "#Importing libraries\n",
        "import nltk\n",
        "nltk.download('treebank')\n",
        "nltk.download('universal_tagset')\n",
        "nltk.download('punkt')\n",
        "nltk.download('averaged_perceptron_tagger')\n",
        "\n",
        "import random\n",
        "from sklearn.model_selection import train_test_split\n",
        "import numpy as np\n",
        "import pandas as pd\n",
        "import matplotlib.pyplot as plt\n",
        "import seaborn as sns\n",
        "import pprint, time\n",
        "from nltk.tokenize import word_tokenize\n"
      ],
      "execution_count": 92,
      "outputs": [
        {
          "output_type": "stream",
          "text": [
            "[nltk_data] Downloading package treebank to /root/nltk_data...\n",
            "[nltk_data]   Package treebank is already up-to-date!\n",
            "[nltk_data] Downloading package universal_tagset to /root/nltk_data...\n",
            "[nltk_data]   Package universal_tagset is already up-to-date!\n",
            "[nltk_data] Downloading package punkt to /root/nltk_data...\n",
            "[nltk_data]   Package punkt is already up-to-date!\n",
            "[nltk_data] Downloading package averaged_perceptron_tagger to\n",
            "[nltk_data]     /root/nltk_data...\n",
            "[nltk_data]   Unzipping taggers/averaged_perceptron_tagger.zip.\n"
          ],
          "name": "stdout"
        }
      ]
    },
    {
      "cell_type": "code",
      "metadata": {
        "id": "3JySDywUt4bi"
      },
      "source": [
        "# reading the Treebank tagged sentences\n",
        "nltk_data = list(nltk.corpus.treebank.tagged_sents(tagset='universal'))"
      ],
      "execution_count": 44,
      "outputs": []
    },
    {
      "cell_type": "code",
      "metadata": {
        "colab": {
          "base_uri": "https://localhost:8080/"
        },
        "id": "0EA-gJMHt4bj",
        "outputId": "3aef931d-1f4f-4e41-f640-4b4cbbd8e1b8"
      },
      "source": [
        "# first start tagged sentences\n",
        "print(nltk_data[:5])"
      ],
      "execution_count": 45,
      "outputs": [
        {
          "output_type": "stream",
          "text": [
            "[[('Pierre', 'NOUN'), ('Vinken', 'NOUN'), (',', '.'), ('61', 'NUM'), ('years', 'NOUN'), ('old', 'ADJ'), (',', '.'), ('will', 'VERB'), ('join', 'VERB'), ('the', 'DET'), ('board', 'NOUN'), ('as', 'ADP'), ('a', 'DET'), ('nonexecutive', 'ADJ'), ('director', 'NOUN'), ('Nov.', 'NOUN'), ('29', 'NUM'), ('.', '.')], [('Mr.', 'NOUN'), ('Vinken', 'NOUN'), ('is', 'VERB'), ('chairman', 'NOUN'), ('of', 'ADP'), ('Elsevier', 'NOUN'), ('N.V.', 'NOUN'), (',', '.'), ('the', 'DET'), ('Dutch', 'NOUN'), ('publishing', 'VERB'), ('group', 'NOUN'), ('.', '.')], [('Rudolph', 'NOUN'), ('Agnew', 'NOUN'), (',', '.'), ('55', 'NUM'), ('years', 'NOUN'), ('old', 'ADJ'), ('and', 'CONJ'), ('former', 'ADJ'), ('chairman', 'NOUN'), ('of', 'ADP'), ('Consolidated', 'NOUN'), ('Gold', 'NOUN'), ('Fields', 'NOUN'), ('PLC', 'NOUN'), (',', '.'), ('was', 'VERB'), ('named', 'VERB'), ('*-1', 'X'), ('a', 'DET'), ('nonexecutive', 'ADJ'), ('director', 'NOUN'), ('of', 'ADP'), ('this', 'DET'), ('British', 'ADJ'), ('industrial', 'ADJ'), ('conglomerate', 'NOUN'), ('.', '.')], [('A', 'DET'), ('form', 'NOUN'), ('of', 'ADP'), ('asbestos', 'NOUN'), ('once', 'ADV'), ('used', 'VERB'), ('*', 'X'), ('*', 'X'), ('to', 'PRT'), ('make', 'VERB'), ('Kent', 'NOUN'), ('cigarette', 'NOUN'), ('filters', 'NOUN'), ('has', 'VERB'), ('caused', 'VERB'), ('a', 'DET'), ('high', 'ADJ'), ('percentage', 'NOUN'), ('of', 'ADP'), ('cancer', 'NOUN'), ('deaths', 'NOUN'), ('among', 'ADP'), ('a', 'DET'), ('group', 'NOUN'), ('of', 'ADP'), ('workers', 'NOUN'), ('exposed', 'VERB'), ('*', 'X'), ('to', 'PRT'), ('it', 'PRON'), ('more', 'ADV'), ('than', 'ADP'), ('30', 'NUM'), ('years', 'NOUN'), ('ago', 'ADP'), (',', '.'), ('researchers', 'NOUN'), ('reported', 'VERB'), ('0', 'X'), ('*T*-1', 'X'), ('.', '.')], [('The', 'DET'), ('asbestos', 'NOUN'), ('fiber', 'NOUN'), (',', '.'), ('crocidolite', 'NOUN'), (',', '.'), ('is', 'VERB'), ('unusually', 'ADV'), ('resilient', 'ADJ'), ('once', 'ADP'), ('it', 'PRON'), ('enters', 'VERB'), ('the', 'DET'), ('lungs', 'NOUN'), (',', '.'), ('with', 'ADP'), ('even', 'ADV'), ('brief', 'ADJ'), ('exposures', 'NOUN'), ('to', 'PRT'), ('it', 'PRON'), ('causing', 'VERB'), ('symptoms', 'NOUN'), ('that', 'DET'), ('*T*-1', 'X'), ('show', 'VERB'), ('up', 'PRT'), ('decades', 'NOUN'), ('later', 'ADJ'), (',', '.'), ('researchers', 'NOUN'), ('said', 'VERB'), ('0', 'X'), ('*T*-2', 'X'), ('.', '.')]]\n"
          ],
          "name": "stdout"
        }
      ]
    },
    {
      "cell_type": "code",
      "metadata": {
        "colab": {
          "base_uri": "https://localhost:8080/"
        },
        "id": "7Sv0AwXqt4bj",
        "outputId": "b239b67f-f2a3-478d-f7dd-eec06a65cb91"
      },
      "source": [
        "#  train and test split of data\n",
        "random.seed(100)\n",
        "train_set, test_set = train_test_split(nltk_data,test_size=0.05)\n",
        "\n",
        "print(\"Training set: \" ,len(train_set))\n",
        "print(\"validation set: \",len(test_set))\n",
        "print(train_set[:5])"
      ],
      "execution_count": 46,
      "outputs": [
        {
          "output_type": "stream",
          "text": [
            "Training set:  3718\n",
            "validation set:  196\n",
            "[[('Billings', 'NOUN'), ('*ICH*-3', 'X'), ('were', 'VERB'), (\"n't\", 'ADV'), ('disclosed', 'VERB'), ('*-1', 'X'), ('for', 'ADP'), ('the', 'DET'), ('small', 'ADJ'), ('account', 'NOUN'), (',', '.'), ('which', 'DET'), ('*T*-155', 'X'), ('had', 'VERB'), ('been', 'VERB'), ('serviced', 'VERB'), ('*-2', 'X'), ('at', 'ADP'), ('Young', 'NOUN'), ('&', 'CONJ'), ('Rubicam', 'NOUN'), (',', '.'), ('New', 'NOUN'), ('York', 'NOUN'), ('.', '.')], [('CERTIFICATES', 'NOUN'), ('OF', 'ADP'), ('DEPOSIT', 'NOUN'), (':', '.'), ('8.07', 'NUM'), ('%', 'NOUN'), ('one', 'NUM'), ('month', 'NOUN'), (';', '.'), ('8.06', 'NUM'), ('%', 'NOUN'), ('two', 'NUM'), ('months', 'NOUN'), (';', '.'), ('8.04', 'NUM'), ('%', 'NOUN'), ('three', 'NUM'), ('months', 'NOUN'), (';', '.'), ('7.95', 'NUM'), ('%', 'NOUN'), ('six', 'NUM'), ('months', 'NOUN'), (';', '.'), ('7.88', 'NUM'), ('%', 'NOUN'), ('one', 'NUM'), ('year', 'NOUN'), ('.', '.')], [('He', 'PRON'), ('said', 'VERB'), ('0', 'X'), ('the', 'DET'), ('exchange', 'NOUN'), ('is', 'VERB'), ('``', '.'), ('headed', 'VERB'), ('for', 'ADP'), ('a', 'DET'), ('real', 'ADJ'), ('crisis', 'NOUN'), (\"''\", '.'), ('if', 'ADP'), ('program', 'NOUN'), ('trading', 'NOUN'), ('is', 'VERB'), (\"n't\", 'ADV'), ('curbed', 'VERB'), ('*-1', 'X'), ('.', '.')], [('Dennis', 'NOUN'), ('Hayes', 'NOUN'), ('and', 'CONJ'), ('Dale', 'NOUN'), ('Heatherington', 'NOUN'), (',', '.'), ('two', 'NUM'), ('Atlanta', 'NOUN'), ('engineers', 'NOUN'), (',', '.'), ('were', 'VERB'), ('co-developers', 'NOUN'), ('of', 'ADP'), ('the', 'DET'), ('internal', 'ADJ'), ('modems', 'NOUN'), ('that', 'DET'), ('*T*-33', 'X'), ('allow', 'VERB'), ('PCs', 'NOUN'), ('to', 'PRT'), ('share', 'VERB'), ('data', 'NOUN'), ('via', 'ADP'), ('the', 'DET'), ('telephone', 'NOUN'), ('.', '.')], [('A', 'DET'), ('final', 'ADJ'), ('modification', 'NOUN'), ('*ICH*-1', 'X'), ('was', 'VERB'), ('made', 'VERB'), ('*-130', 'X'), ('to', 'PRT'), ('the', 'DET'), ('five-point', 'ADJ'), ('opening', 'VERB'), ('limit', 'NOUN'), ('for', 'ADP'), ('the', 'DET'), ('contract', 'NOUN'), ('.', '.')]]\n"
          ],
          "name": "stdout"
        }
      ]
    },
    {
      "cell_type": "code",
      "metadata": {
        "id": "MSminB-Qvunh",
        "colab": {
          "base_uri": "https://localhost:8080/"
        },
        "outputId": "c0fa8021-8f47-443a-d17d-1b6948b690e1"
      },
      "source": [
        "# Getting list of tagged words\n",
        "train_tagged_words = [tup for sent in train_set for tup in sent]\n",
        "len(train_tagged_words)"
      ],
      "execution_count": 47,
      "outputs": [
        {
          "output_type": "execute_result",
          "data": {
            "text/plain": [
              "95639"
            ]
          },
          "metadata": {
            "tags": []
          },
          "execution_count": 47
        }
      ]
    },
    {
      "cell_type": "code",
      "metadata": {
        "colab": {
          "base_uri": "https://localhost:8080/"
        },
        "id": "Xl-H2F1Y0m7b",
        "outputId": "d8eff2c7-2d83-45f0-c072-754ac0010909"
      },
      "source": [
        "# get tokens  from the train set\n",
        "tokens = [pair[0] for pair in train_tagged_words]\n",
        "tokens[:10]"
      ],
      "execution_count": 48,
      "outputs": [
        {
          "output_type": "execute_result",
          "data": {
            "text/plain": [
              "['Billings',\n",
              " '*ICH*-3',\n",
              " 'were',\n",
              " \"n't\",\n",
              " 'disclosed',\n",
              " '*-1',\n",
              " 'for',\n",
              " 'the',\n",
              " 'small',\n",
              " 'account']"
            ]
          },
          "metadata": {
            "tags": []
          },
          "execution_count": 48
        }
      ]
    },
    {
      "cell_type": "code",
      "metadata": {
        "colab": {
          "base_uri": "https://localhost:8080/"
        },
        "id": "fL0dziTd3-YT",
        "outputId": "406ddd53-5549-4211-904c-20963781d6dd"
      },
      "source": [
        "# get the POS tags\n",
        "train_pos_tags = [pair[1] for pair in train_tagged_words]\n",
        "train_pos_tags[:10]"
      ],
      "execution_count": 49,
      "outputs": [
        {
          "output_type": "execute_result",
          "data": {
            "text/plain": [
              "['NOUN', 'X', 'VERB', 'ADV', 'VERB', 'X', 'ADP', 'DET', 'ADJ', 'NOUN']"
            ]
          },
          "metadata": {
            "tags": []
          },
          "execution_count": 49
        }
      ]
    },
    {
      "cell_type": "code",
      "metadata": {
        "colab": {
          "base_uri": "https://localhost:8080/"
        },
        "id": "GzBpDjhm4T9p",
        "outputId": "88687ee0-36d4-4a0c-c348-5f6d0dfcc114"
      },
      "source": [
        "# transform the vocabulary to a set\n",
        "training_vocabulary_set = set(tokens)\n",
        "len(training_vocabulary_set)"
      ],
      "execution_count": 50,
      "outputs": [
        {
          "output_type": "execute_result",
          "data": {
            "text/plain": [
              "12099"
            ]
          },
          "metadata": {
            "tags": []
          },
          "execution_count": 50
        }
      ]
    },
    {
      "cell_type": "code",
      "metadata": {
        "colab": {
          "base_uri": "https://localhost:8080/"
        },
        "id": "jaP_qzNG5A-y",
        "outputId": "38d982a7-36a3-4745-ee5b-60b094c23afb"
      },
      "source": [
        "# POS tags to a set\n",
        "train_pos_tag_set = set(train_pos_tags)\n",
        "len(train_pos_tag_set)"
      ],
      "execution_count": 51,
      "outputs": [
        {
          "output_type": "execute_result",
          "data": {
            "text/plain": [
              "12"
            ]
          },
          "metadata": {
            "tags": []
          },
          "execution_count": 51
        }
      ]
    },
    {
      "cell_type": "code",
      "metadata": {
        "colab": {
          "base_uri": "https://localhost:8080/"
        },
        "id": "5j66659J7VZt",
        "outputId": "5517abb1-60ae-4c66-91ae-55c27b114816"
      },
      "source": [
        "print(train_pos_tag_set)"
      ],
      "execution_count": 52,
      "outputs": [
        {
          "output_type": "stream",
          "text": [
            "{'DET', 'CONJ', 'ADV', '.', 'PRT', 'NUM', 'ADJ', 'ADP', 'X', 'NOUN', 'PRON', 'VERB'}\n"
          ],
          "name": "stdout"
        }
      ]
    },
    {
      "cell_type": "markdown",
      "metadata": {
        "id": "HM7Mx5Qlt4bj"
      },
      "source": [
        "### Build the vanilla Viterbi based POS tagger"
      ]
    },
    {
      "cell_type": "code",
      "metadata": {
        "id": "kH05VHy8t4bk"
      },
      "source": [
        "# uting P(w/t) and storing in T x V matrix\n",
        "t = len(train_pos_tag_set)\n",
        "v = len(training_vocabulary_set)\n",
        "w_given_t = np.zeros((t, v))"
      ],
      "execution_count": 53,
      "outputs": []
    },
    {
      "cell_type": "code",
      "metadata": {
        "id": "Izs0hDNat4bk"
      },
      "source": [
        "# compute word given tag: Emission Probability\n",
        "\n",
        "def word_given_tag(word, tag, train_bag = train_tagged_words):\n",
        "    tag_list = [pair for pair in train_bag if pair[1]==tag]\n",
        "    count_tag = len(tag_list)\n",
        "    w_given_tag_list = [pair[0] for pair in tag_list if pair[0]==word]\n",
        "    count_w_given_tag = len(w_given_tag_list)\n",
        "    \n",
        "    return (count_w_given_tag, count_tag)"
      ],
      "execution_count": 54,
      "outputs": []
    },
    {
      "cell_type": "code",
      "metadata": {
        "id": "osQLspkBTMk2"
      },
      "source": [
        "# compute tag given tag: tag2(t2) given tag1 (t1), i.e. Transition Probability\n",
        "\n",
        "def t2_given_t1(t2, t1, train_bag = train_tagged_words):\n",
        "    tags = [pair[1] for pair in train_bag]\n",
        "    count_t1 = len([t for t in tags if t==t1])\n",
        "    count_t2_t1 = 0\n",
        "    for index in range(len(tags)-1):\n",
        "        if tags[index]==t1 and tags[index+1] == t2:\n",
        "            count_t2_t1 += 1\n",
        "    return (count_t2_t1, count_t1)"
      ],
      "execution_count": 55,
      "outputs": []
    },
    {
      "cell_type": "code",
      "metadata": {
        "colab": {
          "base_uri": "https://localhost:8080/"
        },
        "id": "xrXQYTDlTWEy",
        "outputId": "ecab7616-365d-4935-888b-02c5fe9d7a93"
      },
      "source": [
        "# creating t x t transition matrix of tags\n",
        "# each column is t2, each row is t1\n",
        "# thus M(i, j) represents P(tj given ti)\n",
        "\n",
        "tags_matrix = np.zeros((len(train_pos_tag_set), len(train_pos_tag_set)), dtype='float32')\n",
        "for i, t1 in enumerate(list(train_pos_tag_set)):\n",
        "    for j, t2 in enumerate(list(train_pos_tag_set)): \n",
        "        tags_matrix[i, j] = t2_given_t1(t2, t1)[0]/t2_given_t1(t2, t1)[1]\n",
        "\n",
        "tags_matrix\n"
      ],
      "execution_count": 56,
      "outputs": [
        {
          "output_type": "execute_result",
          "data": {
            "text/plain": [
              "array([[5.66879753e-03, 4.82450851e-04, 1.30261732e-02, 1.74888428e-02,\n",
              "        2.41225425e-04, 2.21927390e-02, 2.05403447e-01, 9.16656572e-03,\n",
              "        4.55916040e-02, 6.37196958e-01, 3.61838145e-03, 3.99228074e-02],\n",
              "       [1.19036593e-01, 4.63177392e-04, 5.46549335e-02, 3.47383060e-02,\n",
              "        5.09495148e-03, 4.21491414e-02, 1.16257526e-01, 5.46549335e-02,\n",
              "        7.87401572e-03, 3.50162119e-01, 5.92867061e-02, 1.55627608e-01],\n",
              "       [6.81515932e-02, 6.98138308e-03, 8.01196843e-02, 1.36303186e-01,\n",
              "        1.46276597e-02, 3.29122357e-02, 1.29654258e-01, 1.18351065e-01,\n",
              "        2.32712757e-02, 3.02526597e-02, 1.46276597e-02, 3.44747335e-01],\n",
              "       [1.73190877e-01, 5.88076860e-02, 5.24331108e-02, 9.23864245e-02,\n",
              "        2.33435095e-03, 8.16124976e-02, 4.40833196e-02, 9.03214216e-02,\n",
              "        2.73837317e-02, 2.23289639e-01, 6.54516071e-02, 8.86155516e-02],\n",
              "       [1.00260414e-01, 2.27864576e-03, 1.00911455e-02, 4.36197929e-02,\n",
              "        1.95312500e-03, 5.79427071e-02, 8.39843750e-02, 2.14843750e-02,\n",
              "        1.30208330e-02, 2.50325531e-01, 1.82291660e-02, 3.96809906e-01],\n",
              "       [2.94204173e-03, 1.38275968e-02, 2.64783762e-03, 1.15916446e-01,\n",
              "        2.73609888e-02, 1.85054421e-01, 3.26566622e-02, 3.64813171e-02,\n",
              "        2.10061789e-01, 3.53339225e-01, 1.47102086e-03, 1.82406586e-02],\n",
              "       [4.77287685e-03, 1.66227780e-02, 4.77287685e-03, 6.50098771e-02,\n",
              "        1.06978277e-02, 2.05727443e-02, 6.50098771e-02, 7.78472647e-02,\n",
              "        2.10664906e-02, 7.00625420e-01, 6.58327830e-04, 1.23436470e-02],\n",
              "       [3.25491875e-01, 8.55432008e-04, 1.30453380e-02, 3.99914458e-02,\n",
              "        1.49700604e-03, 6.29811808e-02, 1.07035927e-01, 1.74294263e-02,\n",
              "        3.47519256e-02, 3.19289982e-01, 6.90761358e-02, 8.55431985e-03],\n",
              "       [5.41187748e-02, 1.06960405e-02, 2.58620698e-02, 1.62515968e-01,\n",
              "        1.84546620e-01, 2.87356321e-03, 1.69220939e-02, 1.43837810e-01,\n",
              "        7.42337182e-02, 6.30587488e-02, 5.57151996e-02, 2.05619410e-01],\n",
              "       [1.33099956e-02, 4.25555184e-02, 1.69201028e-02, 2.40819752e-01,\n",
              "        4.45611365e-02, 9.55402385e-03, 1.22160232e-02, 1.76311851e-01,\n",
              "        2.86985375e-02, 2.63683766e-01, 4.84994333e-03, 1.46519348e-01],\n",
              "       [9.60799400e-03, 5.38047636e-03, 3.49730961e-02, 3.99692543e-02,\n",
              "        1.26825515e-02, 7.68639520e-03, 7.22521171e-02, 2.38278247e-02,\n",
              "        9.26210582e-02, 2.10222900e-01, 6.53343601e-03, 4.84242886e-01],\n",
              "       [1.34811357e-01, 5.21197962e-03, 8.16024914e-02, 3.54725793e-02,\n",
              "        3.11162975e-02, 2.29482688e-02, 6.58887625e-02, 9.11707506e-02,\n",
              "        2.17347339e-01, 1.10385068e-01, 3.58615331e-02, 1.68183580e-01]],\n",
              "      dtype=float32)"
            ]
          },
          "metadata": {
            "tags": []
          },
          "execution_count": 56
        }
      ]
    },
    {
      "cell_type": "code",
      "metadata": {
        "colab": {
          "base_uri": "https://localhost:8080/",
          "height": 418
        },
        "id": "qmJMqcV4U0vu",
        "outputId": "05aac244-5c2f-4811-9997-a7c0e9a0b6cf"
      },
      "source": [
        "# convert the matrix to a df for better readability\n",
        "tags_df = pd.DataFrame(tags_matrix, columns = list(train_pos_tag_set), index=list(train_pos_tag_set))\n",
        "tags_df"
      ],
      "execution_count": 57,
      "outputs": [
        {
          "output_type": "execute_result",
          "data": {
            "text/html": [
              "<div>\n",
              "<style scoped>\n",
              "    .dataframe tbody tr th:only-of-type {\n",
              "        vertical-align: middle;\n",
              "    }\n",
              "\n",
              "    .dataframe tbody tr th {\n",
              "        vertical-align: top;\n",
              "    }\n",
              "\n",
              "    .dataframe thead th {\n",
              "        text-align: right;\n",
              "    }\n",
              "</style>\n",
              "<table border=\"1\" class=\"dataframe\">\n",
              "  <thead>\n",
              "    <tr style=\"text-align: right;\">\n",
              "      <th></th>\n",
              "      <th>DET</th>\n",
              "      <th>CONJ</th>\n",
              "      <th>ADV</th>\n",
              "      <th>.</th>\n",
              "      <th>PRT</th>\n",
              "      <th>NUM</th>\n",
              "      <th>ADJ</th>\n",
              "      <th>ADP</th>\n",
              "      <th>X</th>\n",
              "      <th>NOUN</th>\n",
              "      <th>PRON</th>\n",
              "      <th>VERB</th>\n",
              "    </tr>\n",
              "  </thead>\n",
              "  <tbody>\n",
              "    <tr>\n",
              "      <th>DET</th>\n",
              "      <td>0.005669</td>\n",
              "      <td>0.000482</td>\n",
              "      <td>0.013026</td>\n",
              "      <td>0.017489</td>\n",
              "      <td>0.000241</td>\n",
              "      <td>0.022193</td>\n",
              "      <td>0.205403</td>\n",
              "      <td>0.009167</td>\n",
              "      <td>0.045592</td>\n",
              "      <td>0.637197</td>\n",
              "      <td>0.003618</td>\n",
              "      <td>0.039923</td>\n",
              "    </tr>\n",
              "    <tr>\n",
              "      <th>CONJ</th>\n",
              "      <td>0.119037</td>\n",
              "      <td>0.000463</td>\n",
              "      <td>0.054655</td>\n",
              "      <td>0.034738</td>\n",
              "      <td>0.005095</td>\n",
              "      <td>0.042149</td>\n",
              "      <td>0.116258</td>\n",
              "      <td>0.054655</td>\n",
              "      <td>0.007874</td>\n",
              "      <td>0.350162</td>\n",
              "      <td>0.059287</td>\n",
              "      <td>0.155628</td>\n",
              "    </tr>\n",
              "    <tr>\n",
              "      <th>ADV</th>\n",
              "      <td>0.068152</td>\n",
              "      <td>0.006981</td>\n",
              "      <td>0.080120</td>\n",
              "      <td>0.136303</td>\n",
              "      <td>0.014628</td>\n",
              "      <td>0.032912</td>\n",
              "      <td>0.129654</td>\n",
              "      <td>0.118351</td>\n",
              "      <td>0.023271</td>\n",
              "      <td>0.030253</td>\n",
              "      <td>0.014628</td>\n",
              "      <td>0.344747</td>\n",
              "    </tr>\n",
              "    <tr>\n",
              "      <th>.</th>\n",
              "      <td>0.173191</td>\n",
              "      <td>0.058808</td>\n",
              "      <td>0.052433</td>\n",
              "      <td>0.092386</td>\n",
              "      <td>0.002334</td>\n",
              "      <td>0.081612</td>\n",
              "      <td>0.044083</td>\n",
              "      <td>0.090321</td>\n",
              "      <td>0.027384</td>\n",
              "      <td>0.223290</td>\n",
              "      <td>0.065452</td>\n",
              "      <td>0.088616</td>\n",
              "    </tr>\n",
              "    <tr>\n",
              "      <th>PRT</th>\n",
              "      <td>0.100260</td>\n",
              "      <td>0.002279</td>\n",
              "      <td>0.010091</td>\n",
              "      <td>0.043620</td>\n",
              "      <td>0.001953</td>\n",
              "      <td>0.057943</td>\n",
              "      <td>0.083984</td>\n",
              "      <td>0.021484</td>\n",
              "      <td>0.013021</td>\n",
              "      <td>0.250326</td>\n",
              "      <td>0.018229</td>\n",
              "      <td>0.396810</td>\n",
              "    </tr>\n",
              "    <tr>\n",
              "      <th>NUM</th>\n",
              "      <td>0.002942</td>\n",
              "      <td>0.013828</td>\n",
              "      <td>0.002648</td>\n",
              "      <td>0.115916</td>\n",
              "      <td>0.027361</td>\n",
              "      <td>0.185054</td>\n",
              "      <td>0.032657</td>\n",
              "      <td>0.036481</td>\n",
              "      <td>0.210062</td>\n",
              "      <td>0.353339</td>\n",
              "      <td>0.001471</td>\n",
              "      <td>0.018241</td>\n",
              "    </tr>\n",
              "    <tr>\n",
              "      <th>ADJ</th>\n",
              "      <td>0.004773</td>\n",
              "      <td>0.016623</td>\n",
              "      <td>0.004773</td>\n",
              "      <td>0.065010</td>\n",
              "      <td>0.010698</td>\n",
              "      <td>0.020573</td>\n",
              "      <td>0.065010</td>\n",
              "      <td>0.077847</td>\n",
              "      <td>0.021066</td>\n",
              "      <td>0.700625</td>\n",
              "      <td>0.000658</td>\n",
              "      <td>0.012344</td>\n",
              "    </tr>\n",
              "    <tr>\n",
              "      <th>ADP</th>\n",
              "      <td>0.325492</td>\n",
              "      <td>0.000855</td>\n",
              "      <td>0.013045</td>\n",
              "      <td>0.039991</td>\n",
              "      <td>0.001497</td>\n",
              "      <td>0.062981</td>\n",
              "      <td>0.107036</td>\n",
              "      <td>0.017429</td>\n",
              "      <td>0.034752</td>\n",
              "      <td>0.319290</td>\n",
              "      <td>0.069076</td>\n",
              "      <td>0.008554</td>\n",
              "    </tr>\n",
              "    <tr>\n",
              "      <th>X</th>\n",
              "      <td>0.054119</td>\n",
              "      <td>0.010696</td>\n",
              "      <td>0.025862</td>\n",
              "      <td>0.162516</td>\n",
              "      <td>0.184547</td>\n",
              "      <td>0.002874</td>\n",
              "      <td>0.016922</td>\n",
              "      <td>0.143838</td>\n",
              "      <td>0.074234</td>\n",
              "      <td>0.063059</td>\n",
              "      <td>0.055715</td>\n",
              "      <td>0.205619</td>\n",
              "    </tr>\n",
              "    <tr>\n",
              "      <th>NOUN</th>\n",
              "      <td>0.013310</td>\n",
              "      <td>0.042556</td>\n",
              "      <td>0.016920</td>\n",
              "      <td>0.240820</td>\n",
              "      <td>0.044561</td>\n",
              "      <td>0.009554</td>\n",
              "      <td>0.012216</td>\n",
              "      <td>0.176312</td>\n",
              "      <td>0.028699</td>\n",
              "      <td>0.263684</td>\n",
              "      <td>0.004850</td>\n",
              "      <td>0.146519</td>\n",
              "    </tr>\n",
              "    <tr>\n",
              "      <th>PRON</th>\n",
              "      <td>0.009608</td>\n",
              "      <td>0.005380</td>\n",
              "      <td>0.034973</td>\n",
              "      <td>0.039969</td>\n",
              "      <td>0.012683</td>\n",
              "      <td>0.007686</td>\n",
              "      <td>0.072252</td>\n",
              "      <td>0.023828</td>\n",
              "      <td>0.092621</td>\n",
              "      <td>0.210223</td>\n",
              "      <td>0.006533</td>\n",
              "      <td>0.484243</td>\n",
              "    </tr>\n",
              "    <tr>\n",
              "      <th>VERB</th>\n",
              "      <td>0.134811</td>\n",
              "      <td>0.005212</td>\n",
              "      <td>0.081602</td>\n",
              "      <td>0.035473</td>\n",
              "      <td>0.031116</td>\n",
              "      <td>0.022948</td>\n",
              "      <td>0.065889</td>\n",
              "      <td>0.091171</td>\n",
              "      <td>0.217347</td>\n",
              "      <td>0.110385</td>\n",
              "      <td>0.035862</td>\n",
              "      <td>0.168184</td>\n",
              "    </tr>\n",
              "  </tbody>\n",
              "</table>\n",
              "</div>"
            ],
            "text/plain": [
              "           DET      CONJ       ADV  ...      NOUN      PRON      VERB\n",
              "DET   0.005669  0.000482  0.013026  ...  0.637197  0.003618  0.039923\n",
              "CONJ  0.119037  0.000463  0.054655  ...  0.350162  0.059287  0.155628\n",
              "ADV   0.068152  0.006981  0.080120  ...  0.030253  0.014628  0.344747\n",
              ".     0.173191  0.058808  0.052433  ...  0.223290  0.065452  0.088616\n",
              "PRT   0.100260  0.002279  0.010091  ...  0.250326  0.018229  0.396810\n",
              "NUM   0.002942  0.013828  0.002648  ...  0.353339  0.001471  0.018241\n",
              "ADJ   0.004773  0.016623  0.004773  ...  0.700625  0.000658  0.012344\n",
              "ADP   0.325492  0.000855  0.013045  ...  0.319290  0.069076  0.008554\n",
              "X     0.054119  0.010696  0.025862  ...  0.063059  0.055715  0.205619\n",
              "NOUN  0.013310  0.042556  0.016920  ...  0.263684  0.004850  0.146519\n",
              "PRON  0.009608  0.005380  0.034973  ...  0.210223  0.006533  0.484243\n",
              "VERB  0.134811  0.005212  0.081602  ...  0.110385  0.035862  0.168184\n",
              "\n",
              "[12 rows x 12 columns]"
            ]
          },
          "metadata": {
            "tags": []
          },
          "execution_count": 57
        }
      ]
    },
    {
      "cell_type": "code",
      "metadata": {
        "colab": {
          "base_uri": "https://localhost:8080/",
          "height": 486
        },
        "id": "EMmSuQdVVF9j",
        "outputId": "9b993bd0-62ef-4638-9cba-dcf68accffa0"
      },
      "source": [
        "# heatmap of tags matrix\n",
        "# T(i, j) means P(tag j given tag i)\n",
        "plt.figure(figsize=(14, 8))\n",
        "sns.heatmap(tags_df, annot = True)\n",
        "plt.show()"
      ],
      "execution_count": 58,
      "outputs": [
        {
          "output_type": "display_data",
          "data": {
            "image/png": "[encoded data removed]",
            "text/plain": [
              "<Figure size 1008x576 with 2 Axes>"
            ]
          },
          "metadata": {
            "tags": [],
            "needs_background": "light"
          }
        }
      ]
    },
    {
      "cell_type": "code",
      "metadata": {
        "colab": {
          "base_uri": "https://localhost:8080/",
          "height": 700
        },
        "id": "KHlULhNYVF3z",
        "outputId": "92cf4f56-606d-4083-e9fe-300d0b2ea479"
      },
      "source": [
        "# frequent tags\n",
        "# filter the df to get P(t2, t1) > 0.5\n",
        "tags_frequent = tags_df[tags_df>0.5]\n",
        "plt.figure(figsize=(18, 12))\n",
        "sns.heatmap(tags_frequent)\n",
        "plt.show()"
      ],
      "execution_count": 59,
      "outputs": [
        {
          "output_type": "display_data",
          "data": {
            "image/png": "[encoded data removed]",
            "text/plain": [
              "<Figure size 1296x864 with 2 Axes>"
            ]
          },
          "metadata": {
            "tags": [],
            "needs_background": "light"
          }
        }
      ]
    },
    {
      "cell_type": "code",
      "metadata": {
        "id": "rUx0GybCV_Ms"
      },
      "source": [
        "def Viterbi(words, train_bag = train_tagged_words):\n",
        "    state = []\n",
        "    T = list(set([pair[1] for pair in train_bag]))\n",
        "    \n",
        "    for key, word in enumerate(words):\n",
        "        #initialise list of probability column for a given observation\n",
        "        p = [] \n",
        "        for tag in T:\n",
        "            if key == 0:\n",
        "                transition_p = tags_df.loc['.', tag]\n",
        "            else:\n",
        "                transition_p = tags_df.loc[state[-1], tag]\n",
        "                \n",
        "            # compute emission and state probabilities\n",
        "            emission_p = word_given_tag(words[key], tag)[0]/word_given_tag(words[key], tag)[1]\n",
        "            state_probability = emission_p * transition_p    \n",
        "            p.append(state_probability)\n",
        "            \n",
        "        pmax = max(p)\n",
        "        # getting state for which probability is maximum\n",
        "        state_max = T[p.index(pmax)] \n",
        "        state.append(state_max)\n",
        "    return list(zip(words, state))\n"
      ],
      "execution_count": 60,
      "outputs": []
    },
    {
      "cell_type": "code",
      "metadata": {
        "id": "z-MH7HQYvuns",
        "colab": {
          "base_uri": "https://localhost:8080/"
        },
        "outputId": "efb373e4-97b7-4d2d-87f6-2c62b7994dab"
      },
      "source": [
        "\n",
        "random.seed(100)\n",
        "\n",
        "# choose random 5 sents\n",
        "rndom = [random.randint(1,len(test_set)) for x in range(5)]\n",
        "\n",
        "# list of sents\n",
        "test_run = [test_set[i] for i in rndom]\n",
        "\n",
        "# list of tagged words\n",
        "test_run_base = [tup for sent in test_run for tup in sent]\n",
        "\n",
        "# list of untagged words\n",
        "test_tagged_words = [tup[0] for sent in test_run for tup in sent]\n",
        "test_run"
      ],
      "execution_count": 61,
      "outputs": [
        {
          "output_type": "execute_result",
          "data": {
            "text/plain": [
              "[[('The', 'DET'),\n",
              "  ('minimum-wage', 'NOUN'),\n",
              "  ('bill', 'NOUN'),\n",
              "  ('worked', 'VERB'),\n",
              "  ('out', 'PRT'),\n",
              "  ('*', 'X'),\n",
              "  ('by', 'ADP'),\n",
              "  ('Congress', 'NOUN'),\n",
              "  ('and', 'CONJ'),\n",
              "  ('Bush', 'NOUN'),\n",
              "  ('won', 'VERB'),\n",
              "  ('easy', 'ADJ'),\n",
              "  ('approval', 'NOUN'),\n",
              "  ('in', 'ADP'),\n",
              "  ('the', 'DET'),\n",
              "  ('House', 'NOUN'),\n",
              "  ('.', '.')],\n",
              " [('On', 'ADP'),\n",
              "  ('the', 'DET'),\n",
              "  ('receiving', 'VERB'),\n",
              "  ('end', 'NOUN'),\n",
              "  ('of', 'ADP'),\n",
              "  ('the', 'DET'),\n",
              "  ('message', 'NOUN'),\n",
              "  ('were', 'VERB'),\n",
              "  ('*T*-1', 'X'),\n",
              "  ('officials', 'NOUN'),\n",
              "  ('from', 'ADP'),\n",
              "  ('giants', 'NOUN'),\n",
              "  ('like', 'ADP'),\n",
              "  ('Du', 'NOUN'),\n",
              "  ('Pont', 'NOUN'),\n",
              "  ('and', 'CONJ'),\n",
              "  ('Maytag', 'NOUN'),\n",
              "  (',', '.'),\n",
              "  ('along', 'ADP'),\n",
              "  ('with', 'ADP'),\n",
              "  ('lesser', 'ADJ'),\n",
              "  ('knowns', 'NOUN'),\n",
              "  ('like', 'ADP'),\n",
              "  ('Trojan', 'NOUN'),\n",
              "  ('Steel', 'NOUN'),\n",
              "  ('and', 'CONJ'),\n",
              "  ('the', 'DET'),\n",
              "  ('Valley', 'NOUN'),\n",
              "  ('Queen', 'NOUN'),\n",
              "  ('Cheese', 'NOUN'),\n",
              "  ('Factory', 'NOUN'),\n",
              "  ('.', '.')],\n",
              " [('In', 'ADP'),\n",
              "  ('the', 'DET'),\n",
              "  ('steel', 'NOUN'),\n",
              "  ('division', 'NOUN'),\n",
              "  (',', '.'),\n",
              "  ('operating', 'NOUN'),\n",
              "  ('profit', 'NOUN'),\n",
              "  ('dropped', 'VERB'),\n",
              "  ('11', 'NUM'),\n",
              "  ('%', 'NOUN'),\n",
              "  ('to', 'PRT'),\n",
              "  ('$', '.'),\n",
              "  ('85', 'NUM'),\n",
              "  ('million', 'NUM'),\n",
              "  ('*U*', 'X'),\n",
              "  ('.', '.')],\n",
              " [('The', 'DET'),\n",
              "  ('idea', 'NOUN'),\n",
              "  ('was', 'VERB'),\n",
              "  ('*', 'X'),\n",
              "  ('to', 'PRT'),\n",
              "  ('buffet', 'VERB'),\n",
              "  ('building', 'NOUN'),\n",
              "  ('products', 'NOUN'),\n",
              "  ('from', 'ADP'),\n",
              "  ('cycles', 'NOUN'),\n",
              "  ('in', 'ADP'),\n",
              "  ('new-home', 'ADJ'),\n",
              "  ('construction', 'NOUN'),\n",
              "  ('.', '.')],\n",
              " [('Mrs.', 'NOUN'),\n",
              "  ('Yeargin', 'NOUN'),\n",
              "  ('says', 'VERB'),\n",
              "  ('that', 'ADP'),\n",
              "  ('she', 'PRON'),\n",
              "  ('also', 'ADV'),\n",
              "  ('wanted', 'VERB'),\n",
              "  ('*-1', 'X'),\n",
              "  ('to', 'PRT'),\n",
              "  ('help', 'VERB'),\n",
              "  ('*-2', 'X'),\n",
              "  ('lift', 'VERB'),\n",
              "  ('Greenville', 'NOUN'),\n",
              "  ('High', 'NOUN'),\n",
              "  ('School', 'NOUN'),\n",
              "  (\"'s\", 'PRT'),\n",
              "  ('overall', 'ADJ'),\n",
              "  ('test', 'NOUN'),\n",
              "  ('scores', 'NOUN'),\n",
              "  (',', '.'),\n",
              "  ('usually', 'ADV'),\n",
              "  ('near', 'ADP'),\n",
              "  ('the', 'DET'),\n",
              "  ('bottom', 'NOUN'),\n",
              "  ('of', 'ADP'),\n",
              "  ('14', 'NUM'),\n",
              "  ('district', 'NOUN'),\n",
              "  ('high', 'ADJ'),\n",
              "  ('schools', 'NOUN'),\n",
              "  ('in', 'ADP'),\n",
              "  ('rankings', 'NOUN'),\n",
              "  ('carried', 'VERB'),\n",
              "  ('*', 'X'),\n",
              "  ('annually', 'ADV'),\n",
              "  ('by', 'ADP'),\n",
              "  ('local', 'ADJ'),\n",
              "  ('newspapers', 'NOUN'),\n",
              "  ('.', '.')]]"
            ]
          },
          "metadata": {
            "tags": []
          },
          "execution_count": 61
        }
      ]
    },
    {
      "cell_type": "code",
      "metadata": {
        "colab": {
          "base_uri": "https://localhost:8080/"
        },
        "id": "wMFdew-9Zx_3",
        "outputId": "d3f2698c-3805-472d-9128-747770d025bb"
      },
      "source": [
        "#Test accuracy of Vanilla Viterbi Algorithm algorithm\n",
        "\n",
        "\n",
        "start = time.time()\n",
        "\n",
        "# tag the test sentences\n",
        "tagged_seq = Viterbi(test_tagged_words)\n",
        "\n",
        "end = time.time()\n",
        "difference = end-start\n",
        "\n",
        "print(\"duration of Vanilla Viterbi Algorithm: \", difference)\n",
        "\n",
        "check = [i for i, j in zip(tagged_seq, test_run_base) if i == j]\n",
        "\n",
        "vanilla_viterbi_accuracy = len(check)/len(tagged_seq)\n",
        "\n",
        "print(\"Accuracy of the Vanilla Viterbi Algorithm: \", vanilla_viterbi_accuracy)"
      ],
      "execution_count": 62,
      "outputs": [
        {
          "output_type": "stream",
          "text": [
            "duration of Vanilla Viterbi Algorithm:  40.30942177772522\n",
            "Accuracy of the Vanilla Viterbi Algorithm:  0.9145299145299145\n"
          ],
          "name": "stdout"
        }
      ]
    },
    {
      "cell_type": "code",
      "metadata": {
        "colab": {
          "base_uri": "https://localhost:8080/"
        },
        "id": "AaJDddKCageK",
        "outputId": "6ea22b83-3f11-4e9e-b595-8743c6ae7475"
      },
      "source": [
        "#incorrect tag cases in the test set\n",
        "incorrect_tagged_cases = [[test_run_base[i-1],j] for i, j in enumerate(zip(tagged_seq, test_run_base)) if j[0]!=j[1]]\n",
        "print(len(incorrect_tagged_cases))\n",
        "incorrect_tagged_cases"
      ],
      "execution_count": 63,
      "outputs": [
        {
          "output_type": "stream",
          "text": [
            "10\n"
          ],
          "name": "stdout"
        },
        {
          "output_type": "execute_result",
          "data": {
            "text/plain": [
              "[[('The', 'DET'), (('minimum-wage', 'DET'), ('minimum-wage', 'NOUN'))],\n",
              " [('and', 'CONJ'), (('Maytag', 'DET'), ('Maytag', 'NOUN'))],\n",
              " [('with', 'ADP'), (('lesser', 'DET'), ('lesser', 'ADJ'))],\n",
              " [('lesser', 'ADJ'), (('knowns', 'DET'), ('knowns', 'NOUN'))],\n",
              " [('like', 'ADP'), (('Trojan', 'DET'), ('Trojan', 'NOUN'))],\n",
              " [('Valley', 'NOUN'), (('Queen', 'DET'), ('Queen', 'NOUN'))],\n",
              " [('Queen', 'NOUN'), (('Cheese', 'DET'), ('Cheese', 'NOUN'))],\n",
              " [('to', 'PRT'), (('buffet', 'NOUN'), ('buffet', 'VERB'))],\n",
              " [('from', 'ADP'), (('cycles', 'DET'), ('cycles', 'NOUN'))],\n",
              " [('in', 'ADP'), (('rankings', 'DET'), ('rankings', 'NOUN'))]]"
            ]
          },
          "metadata": {
            "tags": []
          },
          "execution_count": 63
        }
      ]
    },
    {
      "cell_type": "markdown",
      "metadata": {
        "id": "zO5eCwC-t4bk"
      },
      "source": [
        "### Solve the problem of unknown words"
      ]
    },
    {
      "cell_type": "code",
      "metadata": {
        "colab": {
          "base_uri": "https://localhost:8080/"
        },
        "id": "d9PS3aQ7t4bl",
        "outputId": "dcad8fb8-1c94-4162-d293-2bff651ee123"
      },
      "source": [
        "test_vocabulary_set = set([t for t in test_tagged_words])\n",
        "\n",
        "unknown_words = list(test_vocabulary_set - training_vocabulary_set)\n",
        "print(\"Total Unknown words :\", len(unknown_words),\"\\n\")\n",
        "print(\"Unknown Words :\", unknown_words)"
      ],
      "execution_count": 64,
      "outputs": [
        {
          "output_type": "stream",
          "text": [
            "Total Unknown words : 9 \n",
            "\n",
            "Unknown Words : ['rankings', 'knowns', 'cycles', 'Maytag', 'Queen', 'minimum-wage', 'Trojan', 'Cheese', 'lesser']\n"
          ],
          "name": "stdout"
        }
      ]
    },
    {
      "cell_type": "code",
      "metadata": {
        "id": "XNiswTlib3DN"
      },
      "source": [
        "def ViterbiForUnknownWords(words, train_bag = train_tagged_words):\n",
        "    state = []\n",
        "    T = list(set([pair[1] for pair in train_bag]))\n",
        "    \n",
        "    for key, word in enumerate(words):\n",
        "        #initialise list of probability column for a given observation\n",
        "        p = [] \n",
        "        for tag in T:\n",
        "            if key == 0:\n",
        "                transition_p = tags_df.loc['.', tag]\n",
        "            else:\n",
        "                transition_p = tags_df.loc[state[-1], tag]\n",
        "                \n",
        "            # compute emission and state probabilities\n",
        "            emission_p = word_given_tag(words[key], tag)[0]/word_given_tag(words[key], tag)[1]\n",
        "            \n",
        "            # modification to the original vanilla viterbi algorithm for unknown words\n",
        "            if word not in training_vocabulary_set:\n",
        "                state_probability = transition_p\n",
        "            else:\n",
        "                state_probability = emission_p * transition_p\n",
        "                \n",
        "            p.append(state_probability)\n",
        "            \n",
        "        pmax = max(p)\n",
        "        # getting state for which probability is maximum\n",
        "        state_max = T[p.index(pmax)] \n",
        "        state.append(state_max)\n",
        "    return list(zip(words, state))"
      ],
      "execution_count": 65,
      "outputs": []
    },
    {
      "cell_type": "code",
      "metadata": {
        "colab": {
          "base_uri": "https://localhost:8080/"
        },
        "id": "UExaB9n-t4bl",
        "outputId": "f40ce662-53b7-4082-b7a5-5d006b15e579"
      },
      "source": [
        "# tagging the test sentences\n",
        "start = time.time()\n",
        "\n",
        "unknown_word_tagged_seq = ViterbiForUnknownWords(test_tagged_words)\n",
        "\n",
        "end = time.time()\n",
        "difference = end-start\n",
        "\n",
        "print(\"duration for viterbi algorithm for unknown words: \", difference)\n",
        "\n",
        "# accuracy\n",
        "unknown_word_check = [i for i, j in zip(unknown_word_tagged_seq, test_run_base) if i == j]\n",
        "\n",
        "optimized_viterbi_accuracy = len(unknown_word_check)/len(unknown_word_tagged_seq)\n",
        "\n",
        "print(\"accuracy of the viterbi algorithm for unknown words: \", optimized_viterbi_accuracy)"
      ],
      "execution_count": 66,
      "outputs": [
        {
          "output_type": "stream",
          "text": [
            "duration for viterbi algorithm for unknown words:  40.78337359428406\n",
            "accuracy of the viterbi algorithm for unknown words:  0.9572649572649573\n"
          ],
          "name": "stdout"
        }
      ]
    },
    {
      "cell_type": "markdown",
      "metadata": {
        "id": "eVI-cIZCeEe8"
      },
      "source": [
        "There's is a increase in the accuracy of 2% percent by using modified viterbi algorithm for unknown words than the vanilla viterbi algorithm. "
      ]
    },
    {
      "cell_type": "markdown",
      "metadata": {
        "id": "k-vyOaQgexfM"
      },
      "source": [
        "1.  unigram tagger for POS tagging"
      ]
    },
    {
      "cell_type": "code",
      "metadata": {
        "colab": {
          "base_uri": "https://localhost:8080/"
        },
        "id": "eerOywJqfHsZ",
        "outputId": "1b4cd18a-03ff-42d0-cb79-209813cee917"
      },
      "source": [
        "# Unigram Tagger\n",
        "unigram_tagger = nltk.UnigramTagger(train_set)\n",
        "\n",
        "start = time.time()\n",
        "\n",
        "unigram_tagger_accuracy = unigram_tagger.evaluate(test_set)\n",
        "\n",
        "end = time.time()\n",
        "difference = end-start\n",
        "\n",
        "print(\"duration for Unigram Tagger: \", difference)\n",
        "print(\"The accuracy of the Unigram Tagger is: \", unigram_tagger_accuracy)"
      ],
      "execution_count": 67,
      "outputs": [
        {
          "output_type": "stream",
          "text": [
            "duration for Unigram Tagger:  0.00943136215209961\n",
            "The accuracy of the Unigram Tagger is:  0.9102640460591622\n"
          ],
          "name": "stdout"
        }
      ]
    },
    {
      "cell_type": "code",
      "metadata": {
        "id": "tsf44TEdkWs7"
      },
      "source": [
        ""
      ],
      "execution_count": 67,
      "outputs": []
    },
    {
      "cell_type": "markdown",
      "metadata": {
        "id": "42GXDdaPe6zl"
      },
      "source": [
        "3. Unigram + Regex POS tagger"
      ]
    },
    {
      "cell_type": "code",
      "metadata": {
        "id": "2PO1CEz5ubTB"
      },
      "source": [
        " patterns = [\n",
        "    (r'[aA-zZ]+(ed|ing|es)$', 'VERB'), # Any word ending with 'ing' or 'ed' is a verb\n",
        "\n",
        "    (r'.*ly$', 'ADV'),\n",
        "        \n",
        "    (r'^([0-9]|[aA-zZ])+\\-[aA-zZ]*$','ADJ'),\n",
        "    (r'.*able$', 'ADJ'), \n",
        "    (r'.*ful$', 'ADJ'),\n",
        "    (r'.*ous$', 'ADJ'),\n",
        "        \n",
        "    (r'^[aA-zZ].*[0-9]+','NOUN'),     # Alpha Numeric\n",
        "    (r'.*ness$', 'NOUN'),\n",
        "    (r'.*\\'s$', 'NOUN'),              # possessive nouns - words ending with 's\n",
        "    (r'.*s$', 'NOUN'),                # plural nouns\n",
        "    (r'.*ers$', 'NOUN'),              # eg.- kinderganteners, autobioghapgers\n",
        "    (r'.*ment$', 'NOUN'),\n",
        "    (r'.*town$', 'NOUN'),\n",
        "        \n",
        "    (r'^(0|([*|-|$].*))','X'), # Any special character combination\n",
        "    (r'.*ould$', 'X'),\n",
        "        \n",
        "    (r'(The|the|A|a|An|an|That|that|This|this|Those|those|These|these)$', 'DET'), # That/this/these/those belong to the category of Demonstrative determiners\n",
        "    (r'[0-9].?[,\\/]?[0-9]*','NUM'), # Numbers \n",
        "        \n",
        "    (r'.*', 'NOUN')\n",
        "    ]"
      ],
      "execution_count": 68,
      "outputs": []
    },
    {
      "cell_type": "code",
      "metadata": {
        "colab": {
          "base_uri": "https://localhost:8080/"
        },
        "id": "3IoS8SVIXnf9",
        "outputId": "59ffb47c-1682-4aa0-cda5-cf1c26672ff8"
      },
      "source": [
        "# Unigram + rule based tagger\n",
        "\n",
        "rule_tagger = nltk.RegexpTagger(patterns)\n",
        "start = time.time()\n",
        "# unigram tagger + the rule-based tagger\n",
        "unigram_rule_based_tagger = nltk.UnigramTagger(train_set, backoff = rule_tagger)\n",
        "\n",
        "accuracy_unigram_rule_based_tagger = unigram_rule_based_tagger.evaluate(test_set)\n",
        "end = time.time()\n",
        "difference = end-start\n",
        "print(\"The duration of the unigram tagger + the rule-based tagger is -\", difference)\n",
        "print(\"The accuracy of the unigram tagger + the rule-based tagger is -\", accuracy_unigram_rule_based_tagger)\n"
      ],
      "execution_count": 69,
      "outputs": [
        {
          "output_type": "stream",
          "text": [
            "The duration of the unigram tagger + the rule-based tagger is - 2.6878435611724854\n",
            "The accuracy of the unigram tagger + the rule-based tagger is - 0.9598967639467937\n"
          ],
          "name": "stdout"
        }
      ]
    },
    {
      "cell_type": "code",
      "metadata": {
        "colab": {
          "base_uri": "https://localhost:8080/"
        },
        "id": "S0gq2Kd7ZcM8",
        "outputId": "36e576b6-1fbe-42fe-ff2e-188e4d906c32"
      },
      "source": [
        "# Bigram Tagger\n",
        "bigram_tagger = nltk.BigramTagger(train_set, backoff = unigram_rule_based_tagger)\n",
        "\n",
        "start = time.time()\n",
        "\n",
        "bigram_tagger_accuracy = bigram_tagger.evaluate(test_set)\n",
        "\n",
        "end = time.time()\n",
        "difference = end-start\n",
        "\n",
        "print(\"duration for bigram Tagger: \", difference)\n",
        "print(\"The accuracy of the bigram Tagger is: \", bigram_tagger_accuracy)"
      ],
      "execution_count": 70,
      "outputs": [
        {
          "output_type": "stream",
          "text": [
            "duration for bigram Tagger:  0.05582547187805176\n",
            "The accuracy of the bigram Tagger is:  0.9610879491760969\n"
          ],
          "name": "stdout"
        }
      ]
    },
    {
      "cell_type": "code",
      "metadata": {
        "colab": {
          "base_uri": "https://localhost:8080/"
        },
        "id": "vmgI9mq5Y_kw",
        "outputId": "b2064689-15e2-4d98-f301-33ea1b5ebf79"
      },
      "source": [
        "#bigram + rule based tagger \n",
        "\n",
        "start = time.time()\n",
        "# bigram tagger + the rule-based tagger\n",
        "bigram_rule_based_tagger = nltk.BigramTagger(train_set, backoff = rule_tagger)\n",
        "\n",
        "accuracy_bigram_rule_based_tagger = bigram_rule_based_tagger.evaluate(test_set)\n",
        "end = time.time()\n",
        "difference = end-start\n",
        "print(\"The duration of the bigram tagger + the rule-based tagger is -\", difference)\n",
        "print(\"The accuracy of the bigram tagger + the rule-based tagger is -\", accuracy_bigram_rule_based_tagger)"
      ],
      "execution_count": 71,
      "outputs": [
        {
          "output_type": "stream",
          "text": [
            "The duration of the bigram tagger + the rule-based tagger is - 2.9903018474578857\n",
            "The accuracy of the bigram tagger + the rule-based tagger is - 0.9374627754615843\n"
          ],
          "name": "stdout"
        }
      ]
    },
    {
      "cell_type": "code",
      "metadata": {
        "colab": {
          "base_uri": "https://localhost:8080/"
        },
        "id": "0VqtN4lMg164",
        "outputId": "6ddb1297-1250-48ce-8f99-335a9e11ea71"
      },
      "source": [
        "# trigram tagger\n",
        "\n",
        "trigram_tagger = nltk.TrigramTagger(train_set,backoff=bigram_rule_based_tagger)\n",
        "\n",
        "start = time.time()\n",
        "\n",
        "accuracy_trigram_tagger = trigram_tagger.evaluate(test_set)\n",
        "\n",
        "end = time.time()\n",
        "difference = end-start\n",
        "\n",
        "\n",
        "print(\"duration for Trigram Tagger: \", difference)\n",
        "\n",
        "print(\"The accuracy of the Trigram Tagger: \", accuracy_trigram_tagger)"
      ],
      "execution_count": 72,
      "outputs": [
        {
          "output_type": "stream",
          "text": [
            "duration for Trigram Tagger:  0.07103514671325684\n",
            "The accuracy of the Trigram Tagger:  0.9376613063331348\n"
          ],
          "name": "stdout"
        }
      ]
    },
    {
      "cell_type": "code",
      "metadata": {
        "id": "lb3wTwi3k3E1"
      },
      "source": [
        "\n",
        "def trigram_tagger_ruled_tagger(word, train_set = train_set):\n",
        "    \n",
        "    trigram_rule_based_tagger = nltk.TrigramTagger(train_set, backoff = rule_tagger)\n",
        "    return trigram_rule_based_tagger.tag_sents([[(word)]])\n"
      ],
      "execution_count": 73,
      "outputs": []
    },
    {
      "cell_type": "code",
      "metadata": {
        "id": "bx4s6z4Wh6bC"
      },
      "source": [
        "\n",
        "def trigram_brigram_tagger(word, train_set = train_set):\n",
        "    \n",
        "    trigram_brigram_tagger = nltk.TrigramTagger(train_set, backoff = bigram_rule_based_tagger)\n",
        "    return trigram_brigram_tagger.tag_sents([[(word)]])\n"
      ],
      "execution_count": 74,
      "outputs": []
    },
    {
      "cell_type": "markdown",
      "metadata": {
        "id": "rrZlnGlDt4bm"
      },
      "source": [
        "### Compare the tagging accuracies of the modifications with the vanilla Viterbi algorithm"
      ]
    },
    {
      "cell_type": "code",
      "metadata": {
        "id": "VdWIdf-Yls8I"
      },
      "source": [
        "def ViterbiBackedupTrigramRuleBasedTagger(words, train_bag = train_tagged_words):\n",
        "    state = []\n",
        "    tag_set = list(set([pair[1] for pair in train_bag]))\n",
        "    \n",
        "    # use the trigram tagger backed up by the rule based tagger\n",
        "    # for unknown words.\n",
        "    for key, word in enumerate(words):\n",
        "        if word not in training_vocabulary_set:\n",
        "            unknown_word_tag = trigram_tagger_ruled_tagger(word)\n",
        "            for sent in unknown_word_tag:\n",
        "                for tup in sent:\n",
        "                    state.append(tup[1])\n",
        "        else:            \n",
        "            p = [] \n",
        "            for tag in tag_set:\n",
        "                if key == 0:\n",
        "                    transition_p = tags_df.loc['.', tag]\n",
        "                else:\n",
        "                    transition_p = tags_df.loc[state[-1], tag]\n",
        "                \n",
        "            # compute emission and state probabilities\n",
        "                emission_p = word_given_tag(words[key], tag)[0]/word_given_tag(words[key], tag)[1]\n",
        "                state_probability = emission_p * transition_p    \n",
        "                p.append(state_probability)\n",
        "            \n",
        "            pmax = max(p)\n",
        "            # getting state for which probability is maximum\n",
        "            state_max = tag_set[p.index(pmax)] \n",
        "            state.append(state_max)\n",
        "    return list(zip(words, state))"
      ],
      "execution_count": 75,
      "outputs": []
    },
    {
      "cell_type": "code",
      "metadata": {
        "id": "-U5SNd3qiLe1"
      },
      "source": [
        "def ViterbiBackedupTrigramBigramTagger(words, train_bag = train_tagged_words):\n",
        "    state = []\n",
        "    tag_set = list(set([pair[1] for pair in train_bag]))\n",
        "    \n",
        "    # use the trigram tagger backed up by the bigram tagger\n",
        "    # for unknown words.\n",
        "    for key, word in enumerate(words):\n",
        "        if word not in training_vocabulary_set:\n",
        "            unknown_word_tag = trigram_brigram_tagger(word)\n",
        "            for sent in unknown_word_tag:\n",
        "                for tup in sent:\n",
        "                    state.append(tup[1])\n",
        "        else:            \n",
        "            p = [] \n",
        "            for tag in tag_set:\n",
        "                if key == 0:\n",
        "                    transition_p = tags_df.loc['.', tag]\n",
        "                else:\n",
        "                    transition_p = tags_df.loc[state[-1], tag]\n",
        "                \n",
        "            # compute emission and state probabilities\n",
        "                emission_p = word_given_tag(words[key], tag)[0]/word_given_tag(words[key], tag)[1]\n",
        "                state_probability = emission_p * transition_p    \n",
        "                p.append(state_probability)\n",
        "            \n",
        "            pmax = max(p)\n",
        "            # getting state for which probability is maximum\n",
        "            state_max = tag_set[p.index(pmax)] \n",
        "            state.append(state_max)\n",
        "    return list(zip(words, state))"
      ],
      "execution_count": 76,
      "outputs": []
    },
    {
      "cell_type": "code",
      "metadata": {
        "colab": {
          "base_uri": "https://localhost:8080/"
        },
        "id": "Pn8yCLofo_g6",
        "outputId": "cb4c31bc-7ebd-43e1-a9e7-d2be8dd77982"
      },
      "source": [
        "# tagging the test sentences\n",
        "start = time.time()\n",
        "\n",
        "Viterbi_backed_Trigram_rule_seq = ViterbiBackedupTrigramRuleBasedTagger(test_tagged_words)\n",
        "\n",
        "end = time.time()\n",
        "difference = end-start\n",
        "\n",
        "print(\"duration for viterbi + trigram rule based  for unknown words: \", difference)\n",
        "\n",
        "# accuracy\n",
        "unknown_word_check = [i for i, j in zip(Viterbi_backed_Trigram_rule_seq, test_run_base) if i == j]\n",
        "\n",
        "Viterbi_backed_Trigram_rule_accuracy = len(unknown_word_check)/len(Viterbi_backed_Trigram_rule_seq)\n",
        "\n",
        "print(\"accuracy of the viterbi + trigram rule based for unknown words: \", Viterbi_backed_Trigram_rule_accuracy)"
      ],
      "execution_count": 77,
      "outputs": [
        {
          "output_type": "stream",
          "text": [
            "duration for viterbi + trigram rule based  for unknown words:  63.34251356124878\n",
            "accuracy of the viterbi + trigram rule based for unknown words:  0.9658119658119658\n"
          ],
          "name": "stdout"
        }
      ]
    },
    {
      "cell_type": "code",
      "metadata": {
        "colab": {
          "base_uri": "https://localhost:8080/"
        },
        "id": "6zxatmXvibxm",
        "outputId": "12d0b5b1-cb72-4d1d-b4c7-cd015c07c59f"
      },
      "source": [
        "# tagging the test sentences\n",
        "start = time.time()\n",
        "\n",
        "Viterbi_Trigram_Bigram_rule_seq = ViterbiBackedupTrigramBigramTagger(test_tagged_words)\n",
        "\n",
        "end = time.time()\n",
        "difference = end-start\n",
        "\n",
        "print(\"duration for viterbi + trigram rule based  for unknown words: \", difference)\n",
        "\n",
        "# accuracy\n",
        "unknown_word_check = [i for i, j in zip(Viterbi_Trigram_Bigram_rule_seq, test_run_base) if i == j]\n",
        "\n",
        "Viterbi_Trigram_Bigram_rule_accuracy = len(unknown_word_check)/len(Viterbi_Trigram_Bigram_rule_seq)\n",
        "\n",
        "print(\"accuracy of the viterbi + trigram + Bigram rule based for unknown words: \", Viterbi_Trigram_Bigram_rule_accuracy)"
      ],
      "execution_count": 78,
      "outputs": [
        {
          "output_type": "stream",
          "text": [
            "duration for viterbi + trigram rule based  for unknown words:  53.72558116912842\n",
            "accuracy of the viterbi + trigram + Bigram rule based for unknown words:  0.9658119658119658\n"
          ],
          "name": "stdout"
        }
      ]
    },
    {
      "cell_type": "markdown",
      "metadata": {
        "id": "9z3ie9WKt4bm"
      },
      "source": [
        "#### Evaluating tagging accuracy"
      ]
    },
    {
      "cell_type": "code",
      "metadata": {
        "id": "Ubbmi85At4bm",
        "colab": {
          "base_uri": "https://localhost:8080/",
          "height": 326
        },
        "outputId": "df1093f8-eb24-48fd-e81c-30a54da4b466"
      },
      "source": [
        "tagging_acccuracy = [['Vanilla Viterbi', vanilla_viterbi_accuracy*100], \n",
        "                  ['Optimised   Vanilla Viterbi', optimized_viterbi_accuracy*100],\n",
        "                  ['Unigram Tagger', unigram_tagger_accuracy*100],\n",
        "                  ['Unigram + Rule based Tagger', accuracy_unigram_rule_based_tagger*100],\n",
        "                  ['Bigram Tagger + Unigram_tagger', accuracy_bigram_rule_based_tagger*100],\n",
        "                  ['Trigram Tagger + Bigram tagger', accuracy_trigram_tagger*100],\n",
        "                  ['Viterbi + Trigram_tagger', Viterbi_backed_Trigram_rule_accuracy*100],\n",
        "                  ['Viterbi + Trigram Tagger + Bigram tagger', Viterbi_Trigram_Bigram_rule_accuracy*100]]\n",
        "\n",
        "tagging_acccuracy_df = pd.DataFrame(tagging_acccuracy, columns = ['Tagging_Algorithm', 'Tagging_Accuracy'])\n",
        "\n",
        "tagging_acccuracy_df.set_index('Tagging_Algorithm', drop = True, inplace = True)\n",
        "\n",
        "tagging_acccuracy_df"
      ],
      "execution_count": 79,
      "outputs": [
        {
          "output_type": "execute_result",
          "data": {
            "text/html": [
              "<div>\n",
              "<style scoped>\n",
              "    .dataframe tbody tr th:only-of-type {\n",
              "        vertical-align: middle;\n",
              "    }\n",
              "\n",
              "    .dataframe tbody tr th {\n",
              "        vertical-align: top;\n",
              "    }\n",
              "\n",
              "    .dataframe thead th {\n",
              "        text-align: right;\n",
              "    }\n",
              "</style>\n",
              "<table border=\"1\" class=\"dataframe\">\n",
              "  <thead>\n",
              "    <tr style=\"text-align: right;\">\n",
              "      <th></th>\n",
              "      <th>Tagging_Accuracy</th>\n",
              "    </tr>\n",
              "    <tr>\n",
              "      <th>Tagging_Algorithm</th>\n",
              "      <th></th>\n",
              "    </tr>\n",
              "  </thead>\n",
              "  <tbody>\n",
              "    <tr>\n",
              "      <th>Vanilla Viterbi</th>\n",
              "      <td>91.452991</td>\n",
              "    </tr>\n",
              "    <tr>\n",
              "      <th>Optimised   Vanilla Viterbi</th>\n",
              "      <td>95.726496</td>\n",
              "    </tr>\n",
              "    <tr>\n",
              "      <th>Unigram Tagger</th>\n",
              "      <td>91.026405</td>\n",
              "    </tr>\n",
              "    <tr>\n",
              "      <th>Unigram + Rule based Tagger</th>\n",
              "      <td>95.989676</td>\n",
              "    </tr>\n",
              "    <tr>\n",
              "      <th>Bigram Tagger + Unigram_tagger</th>\n",
              "      <td>93.746278</td>\n",
              "    </tr>\n",
              "    <tr>\n",
              "      <th>Trigram Tagger + Bigram tagger</th>\n",
              "      <td>93.766131</td>\n",
              "    </tr>\n",
              "    <tr>\n",
              "      <th>Viterbi + Trigram_tagger</th>\n",
              "      <td>96.581197</td>\n",
              "    </tr>\n",
              "    <tr>\n",
              "      <th>Viterbi + Trigram Tagger + Bigram tagger</th>\n",
              "      <td>96.581197</td>\n",
              "    </tr>\n",
              "  </tbody>\n",
              "</table>\n",
              "</div>"
            ],
            "text/plain": [
              "                                          Tagging_Accuracy\n",
              "Tagging_Algorithm                                         \n",
              "Vanilla Viterbi                                  91.452991\n",
              "Optimised   Vanilla Viterbi                      95.726496\n",
              "Unigram Tagger                                   91.026405\n",
              "Unigram + Rule based Tagger                      95.989676\n",
              "Bigram Tagger + Unigram_tagger                   93.746278\n",
              "Trigram Tagger + Bigram tagger                   93.766131\n",
              "Viterbi + Trigram_tagger                         96.581197\n",
              "Viterbi + Trigram Tagger + Bigram tagger         96.581197"
            ]
          },
          "metadata": {
            "tags": []
          },
          "execution_count": 79
        }
      ]
    },
    {
      "cell_type": "code",
      "metadata": {
        "id": "NnD-i0ist4bm",
        "colab": {
          "base_uri": "https://localhost:8080/",
          "height": 497
        },
        "outputId": "24de67be-cb12-43ee-c61d-361e5a27a09c"
      },
      "source": [
        "tagging_acccuracy_df.plot.line(rot = 90, legend = False)\n"
      ],
      "execution_count": 80,
      "outputs": [
        {
          "output_type": "execute_result",
          "data": {
            "text/plain": [
              "<matplotlib.axes._subplots.AxesSubplot at 0x7f10b43e5e50>"
            ]
          },
          "metadata": {
            "tags": []
          },
          "execution_count": 80
        },
        {
          "output_type": "display_data",
          "data": {
            "image/png": "[encoded data removed]",
            "text/plain": [
              "<Figure size 432x288 with 1 Axes>"
            ]
          },
          "metadata": {
            "tags": [],
            "needs_background": "light"
          }
        }
      ]
    },
    {
      "cell_type": "code",
      "metadata": {
        "id": "aMOIvvgut4bn"
      },
      "source": [
        "test_sentences = [\"Android is a mobile operating system developed by Google.\",\n",
        "\"Android has been the best-selling OS worldwide on smartphones since 2011 and on tablets since 2013.\",\n",
        "\"Google and Twitter made a deal in 2015 that gave Google access to Twitter's firehose.\",\n",
        "\"Twitter is an online news and social networking service on which users post and interact with messages known as tweets.\",\n",
        "\"Before entering politics, Donald Trump was a domineering businessman and a television personality.\",\n",
        "\"The 2018 FIFA World Cup is the 21st FIFA World Cup, an international football tournament contested once every four years.\",\n",
        "\"This is the first World Cup to be held in Eastern Europe and the 11th time that it has been held in Europe.\",\n",
        "\"Show me the cheapest round trips from Dallas to Atlanta\",\n",
        "\"I would like to see flights from Denver to Philadelphia.\",\n",
        "\"Show me the price of the flights leaving Atlanta at about 3 in the afternoon and arriving in San Francisco.\",\n",
        "\"NASA invited social media users to experience the launch of ICESAT-2 Satellite.\"]"
      ],
      "execution_count": 85,
      "outputs": []
    },
    {
      "cell_type": "code",
      "metadata": {
        "id": "cAT0MWTct4bn",
        "colab": {
          "base_uri": "https://localhost:8080/"
        },
        "outputId": "05143728-ca8c-496b-c0e7-4b9e4638a6b6"
      },
      "source": [
        "test_tokenized_sentences = [word_tokenize(sent) for sent in test_sentences]\n",
        "test_corpus_pos_tags = nltk.pos_tag_sents(test_tokenized_sentences, tagset = 'universal')\n",
        "test_corpus_pos_tags\n"
      ],
      "execution_count": 93,
      "outputs": [
        {
          "output_type": "execute_result",
          "data": {
            "text/plain": [
              "[[('Android', 'NOUN'),\n",
              "  ('is', 'VERB'),\n",
              "  ('a', 'DET'),\n",
              "  ('mobile', 'ADJ'),\n",
              "  ('operating', 'NOUN'),\n",
              "  ('system', 'NOUN'),\n",
              "  ('developed', 'VERB'),\n",
              "  ('by', 'ADP'),\n",
              "  ('Google', 'NOUN'),\n",
              "  ('.', '.')],\n",
              " [('Android', 'NOUN'),\n",
              "  ('has', 'VERB'),\n",
              "  ('been', 'VERB'),\n",
              "  ('the', 'DET'),\n",
              "  ('best-selling', 'ADJ'),\n",
              "  ('OS', 'NOUN'),\n",
              "  ('worldwide', 'NOUN'),\n",
              "  ('on', 'ADP'),\n",
              "  ('smartphones', 'NOUN'),\n",
              "  ('since', 'ADP'),\n",
              "  ('2011', 'NUM'),\n",
              "  ('and', 'CONJ'),\n",
              "  ('on', 'ADP'),\n",
              "  ('tablets', 'NOUN'),\n",
              "  ('since', 'ADP'),\n",
              "  ('2013', 'NUM'),\n",
              "  ('.', '.')],\n",
              " [('Google', 'NOUN'),\n",
              "  ('and', 'CONJ'),\n",
              "  ('Twitter', 'NOUN'),\n",
              "  ('made', 'VERB'),\n",
              "  ('a', 'DET'),\n",
              "  ('deal', 'NOUN'),\n",
              "  ('in', 'ADP'),\n",
              "  ('2015', 'NUM'),\n",
              "  ('that', 'DET'),\n",
              "  ('gave', 'VERB'),\n",
              "  ('Google', 'NOUN'),\n",
              "  ('access', 'NOUN'),\n",
              "  ('to', 'PRT'),\n",
              "  ('Twitter', 'NOUN'),\n",
              "  (\"'s\", 'PRT'),\n",
              "  ('firehose', 'NOUN'),\n",
              "  ('.', '.')],\n",
              " [('Twitter', 'NOUN'),\n",
              "  ('is', 'VERB'),\n",
              "  ('an', 'DET'),\n",
              "  ('online', 'ADJ'),\n",
              "  ('news', 'NOUN'),\n",
              "  ('and', 'CONJ'),\n",
              "  ('social', 'ADJ'),\n",
              "  ('networking', 'NOUN'),\n",
              "  ('service', 'NOUN'),\n",
              "  ('on', 'ADP'),\n",
              "  ('which', 'DET'),\n",
              "  ('users', 'NOUN'),\n",
              "  ('post', 'NOUN'),\n",
              "  ('and', 'CONJ'),\n",
              "  ('interact', 'NOUN'),\n",
              "  ('with', 'ADP'),\n",
              "  ('messages', 'NOUN'),\n",
              "  ('known', 'VERB'),\n",
              "  ('as', 'ADP'),\n",
              "  ('tweets', 'NOUN'),\n",
              "  ('.', '.')],\n",
              " [('Before', 'ADP'),\n",
              "  ('entering', 'VERB'),\n",
              "  ('politics', 'NOUN'),\n",
              "  (',', '.'),\n",
              "  ('Donald', 'NOUN'),\n",
              "  ('Trump', 'NOUN'),\n",
              "  ('was', 'VERB'),\n",
              "  ('a', 'DET'),\n",
              "  ('domineering', 'ADJ'),\n",
              "  ('businessman', 'NOUN'),\n",
              "  ('and', 'CONJ'),\n",
              "  ('a', 'DET'),\n",
              "  ('television', 'NOUN'),\n",
              "  ('personality', 'NOUN'),\n",
              "  ('.', '.')],\n",
              " [('The', 'DET'),\n",
              "  ('2018', 'NUM'),\n",
              "  ('FIFA', 'NOUN'),\n",
              "  ('World', 'NOUN'),\n",
              "  ('Cup', 'NOUN'),\n",
              "  ('is', 'VERB'),\n",
              "  ('the', 'DET'),\n",
              "  ('21st', 'NUM'),\n",
              "  ('FIFA', 'NOUN'),\n",
              "  ('World', 'NOUN'),\n",
              "  ('Cup', 'NOUN'),\n",
              "  (',', '.'),\n",
              "  ('an', 'DET'),\n",
              "  ('international', 'ADJ'),\n",
              "  ('football', 'NOUN'),\n",
              "  ('tournament', 'NOUN'),\n",
              "  ('contested', 'VERB'),\n",
              "  ('once', 'ADV'),\n",
              "  ('every', 'DET'),\n",
              "  ('four', 'NUM'),\n",
              "  ('years', 'NOUN'),\n",
              "  ('.', '.')],\n",
              " [('This', 'DET'),\n",
              "  ('is', 'VERB'),\n",
              "  ('the', 'DET'),\n",
              "  ('first', 'ADJ'),\n",
              "  ('World', 'NOUN'),\n",
              "  ('Cup', 'NOUN'),\n",
              "  ('to', 'PRT'),\n",
              "  ('be', 'VERB'),\n",
              "  ('held', 'VERB'),\n",
              "  ('in', 'ADP'),\n",
              "  ('Eastern', 'NOUN'),\n",
              "  ('Europe', 'NOUN'),\n",
              "  ('and', 'CONJ'),\n",
              "  ('the', 'DET'),\n",
              "  ('11th', 'NUM'),\n",
              "  ('time', 'NOUN'),\n",
              "  ('that', 'ADP'),\n",
              "  ('it', 'PRON'),\n",
              "  ('has', 'VERB'),\n",
              "  ('been', 'VERB'),\n",
              "  ('held', 'VERB'),\n",
              "  ('in', 'ADP'),\n",
              "  ('Europe', 'NOUN'),\n",
              "  ('.', '.')],\n",
              " [('Show', 'VERB'),\n",
              "  ('me', 'PRON'),\n",
              "  ('the', 'DET'),\n",
              "  ('cheapest', 'ADJ'),\n",
              "  ('round', 'NOUN'),\n",
              "  ('trips', 'NOUN'),\n",
              "  ('from', 'ADP'),\n",
              "  ('Dallas', 'NOUN'),\n",
              "  ('to', 'PRT'),\n",
              "  ('Atlanta', 'VERB')],\n",
              " [('I', 'PRON'),\n",
              "  ('would', 'VERB'),\n",
              "  ('like', 'VERB'),\n",
              "  ('to', 'PRT'),\n",
              "  ('see', 'VERB'),\n",
              "  ('flights', 'NOUN'),\n",
              "  ('from', 'ADP'),\n",
              "  ('Denver', 'NOUN'),\n",
              "  ('to', 'PRT'),\n",
              "  ('Philadelphia', 'NOUN'),\n",
              "  ('.', '.')],\n",
              " [('Show', 'VERB'),\n",
              "  ('me', 'PRON'),\n",
              "  ('the', 'DET'),\n",
              "  ('price', 'NOUN'),\n",
              "  ('of', 'ADP'),\n",
              "  ('the', 'DET'),\n",
              "  ('flights', 'NOUN'),\n",
              "  ('leaving', 'VERB'),\n",
              "  ('Atlanta', 'NOUN'),\n",
              "  ('at', 'ADP'),\n",
              "  ('about', 'ADV'),\n",
              "  ('3', 'NUM'),\n",
              "  ('in', 'ADP'),\n",
              "  ('the', 'DET'),\n",
              "  ('afternoon', 'NOUN'),\n",
              "  ('and', 'CONJ'),\n",
              "  ('arriving', 'NOUN'),\n",
              "  ('in', 'ADP'),\n",
              "  ('San', 'NOUN'),\n",
              "  ('Francisco', 'NOUN'),\n",
              "  ('.', '.')],\n",
              " [('NASA', 'NOUN'),\n",
              "  ('invited', 'VERB'),\n",
              "  ('social', 'ADJ'),\n",
              "  ('media', 'NOUN'),\n",
              "  ('users', 'NOUN'),\n",
              "  ('to', 'PRT'),\n",
              "  ('experience', 'VERB'),\n",
              "  ('the', 'DET'),\n",
              "  ('launch', 'NOUN'),\n",
              "  ('of', 'ADP'),\n",
              "  ('ICESAT-2', 'NOUN'),\n",
              "  ('Satellite', 'NOUN'),\n",
              "  ('.', '.')]]"
            ]
          },
          "metadata": {
            "tags": []
          },
          "execution_count": 93
        }
      ]
    },
    {
      "cell_type": "code",
      "metadata": {
        "id": "_XAEVQCqt4bn",
        "colab": {
          "base_uri": "https://localhost:8080/"
        },
        "outputId": "fed4a635-c734-462c-c5d8-888fa19a621a"
      },
      "source": [
        "# list of untagged words from the  test stentences\n",
        "test_tagged_words = [tup[0] for sent in test_corpus_pos_tags for tup in sent]\n",
        "\n",
        "\n",
        "# list of tagged words from the  test stentences\n",
        "test_run_base = [tup for sent in test_corpus_pos_tags for tup in sent]\n",
        "\n",
        "test_tagged_words\n"
      ],
      "execution_count": 99,
      "outputs": [
        {
          "output_type": "execute_result",
          "data": {
            "text/plain": [
              "['Android',\n",
              " 'is',\n",
              " 'a',\n",
              " 'mobile',\n",
              " 'operating',\n",
              " 'system',\n",
              " 'developed',\n",
              " 'by',\n",
              " 'Google',\n",
              " '.',\n",
              " 'Android',\n",
              " 'has',\n",
              " 'been',\n",
              " 'the',\n",
              " 'best-selling',\n",
              " 'OS',\n",
              " 'worldwide',\n",
              " 'on',\n",
              " 'smartphones',\n",
              " 'since',\n",
              " '2011',\n",
              " 'and',\n",
              " 'on',\n",
              " 'tablets',\n",
              " 'since',\n",
              " '2013',\n",
              " '.',\n",
              " 'Google',\n",
              " 'and',\n",
              " 'Twitter',\n",
              " 'made',\n",
              " 'a',\n",
              " 'deal',\n",
              " 'in',\n",
              " '2015',\n",
              " 'that',\n",
              " 'gave',\n",
              " 'Google',\n",
              " 'access',\n",
              " 'to',\n",
              " 'Twitter',\n",
              " \"'s\",\n",
              " 'firehose',\n",
              " '.',\n",
              " 'Twitter',\n",
              " 'is',\n",
              " 'an',\n",
              " 'online',\n",
              " 'news',\n",
              " 'and',\n",
              " 'social',\n",
              " 'networking',\n",
              " 'service',\n",
              " 'on',\n",
              " 'which',\n",
              " 'users',\n",
              " 'post',\n",
              " 'and',\n",
              " 'interact',\n",
              " 'with',\n",
              " 'messages',\n",
              " 'known',\n",
              " 'as',\n",
              " 'tweets',\n",
              " '.',\n",
              " 'Before',\n",
              " 'entering',\n",
              " 'politics',\n",
              " ',',\n",
              " 'Donald',\n",
              " 'Trump',\n",
              " 'was',\n",
              " 'a',\n",
              " 'domineering',\n",
              " 'businessman',\n",
              " 'and',\n",
              " 'a',\n",
              " 'television',\n",
              " 'personality',\n",
              " '.',\n",
              " 'The',\n",
              " '2018',\n",
              " 'FIFA',\n",
              " 'World',\n",
              " 'Cup',\n",
              " 'is',\n",
              " 'the',\n",
              " '21st',\n",
              " 'FIFA',\n",
              " 'World',\n",
              " 'Cup',\n",
              " ',',\n",
              " 'an',\n",
              " 'international',\n",
              " 'football',\n",
              " 'tournament',\n",
              " 'contested',\n",
              " 'once',\n",
              " 'every',\n",
              " 'four',\n",
              " 'years',\n",
              " '.',\n",
              " 'This',\n",
              " 'is',\n",
              " 'the',\n",
              " 'first',\n",
              " 'World',\n",
              " 'Cup',\n",
              " 'to',\n",
              " 'be',\n",
              " 'held',\n",
              " 'in',\n",
              " 'Eastern',\n",
              " 'Europe',\n",
              " 'and',\n",
              " 'the',\n",
              " '11th',\n",
              " 'time',\n",
              " 'that',\n",
              " 'it',\n",
              " 'has',\n",
              " 'been',\n",
              " 'held',\n",
              " 'in',\n",
              " 'Europe',\n",
              " '.',\n",
              " 'Show',\n",
              " 'me',\n",
              " 'the',\n",
              " 'cheapest',\n",
              " 'round',\n",
              " 'trips',\n",
              " 'from',\n",
              " 'Dallas',\n",
              " 'to',\n",
              " 'Atlanta',\n",
              " 'I',\n",
              " 'would',\n",
              " 'like',\n",
              " 'to',\n",
              " 'see',\n",
              " 'flights',\n",
              " 'from',\n",
              " 'Denver',\n",
              " 'to',\n",
              " 'Philadelphia',\n",
              " '.',\n",
              " 'Show',\n",
              " 'me',\n",
              " 'the',\n",
              " 'price',\n",
              " 'of',\n",
              " 'the',\n",
              " 'flights',\n",
              " 'leaving',\n",
              " 'Atlanta',\n",
              " 'at',\n",
              " 'about',\n",
              " '3',\n",
              " 'in',\n",
              " 'the',\n",
              " 'afternoon',\n",
              " 'and',\n",
              " 'arriving',\n",
              " 'in',\n",
              " 'San',\n",
              " 'Francisco',\n",
              " '.',\n",
              " 'NASA',\n",
              " 'invited',\n",
              " 'social',\n",
              " 'media',\n",
              " 'users',\n",
              " 'to',\n",
              " 'experience',\n",
              " 'the',\n",
              " 'launch',\n",
              " 'of',\n",
              " 'ICESAT-2',\n",
              " 'Satellite',\n",
              " '.']"
            ]
          },
          "metadata": {
            "tags": []
          },
          "execution_count": 99
        }
      ]
    },
    {
      "cell_type": "code",
      "metadata": {
        "colab": {
          "base_uri": "https://localhost:8080/"
        },
        "id": "o_Fx91IaeEQF",
        "outputId": "4800c40a-12d4-40e0-fe81-c3790bb2e2a4"
      },
      "source": [
        "# tagging the test sentences\n",
        "Viterbi_test_tagged_seq = Viterbi(test_tagged_words)\n",
        "\n",
        "# Let's check the accuracy of the vanilla viterbi algorithm\n",
        "sample_test_check = [i for i, j in zip(Viterbi_test_tagged_seq, test_run_base) if i == j]\n",
        "\n",
        "vanilla_viterbi_accuracy_test_data = len(sample_test_check)/len(Viterbi_test_tagged_seq)\n",
        "\n",
        "print(\"The accuracy of the Vanilla Viterbi Algorithm on the sample test data is -\", vanilla_viterbi_accuracy_test_data)"
      ],
      "execution_count": 111,
      "outputs": [
        {
          "output_type": "stream",
          "text": [
            "The accuracy of the Vanilla Viterbi Algorithm on the sample test data is - 0.7458563535911602\n"
          ],
          "name": "stdout"
        }
      ]
    },
    {
      "cell_type": "code",
      "metadata": {
        "colab": {
          "base_uri": "https://localhost:8080/"
        },
        "id": "dKCpjzyYfLAY",
        "outputId": "47e8bd69-adf4-4dfb-af04-27b1f053f24d"
      },
      "source": [
        "# tagging the test sentences\n",
        "Viterbi_optimised_test_tagged_seq = ViterbiForUnknownWords(test_tagged_words)\n",
        "\n",
        "# Let's check the accuracy of the vanilla viterbi algorithm\n",
        "sample_test_check = [i for i, j in zip(Viterbi_optimised_test_tagged_seq, test_run_base) if i == j]\n",
        "\n",
        "optimised_viterbi_accuracy_test_data = len(sample_test_check)/len(Viterbi_optimised_test_tagged_seq)\n",
        "\n",
        "print(\"The accuracy of the optimised Viterbi Algorithm on the  test data:\", optimised_viterbi_accuracy_test_data)"
      ],
      "execution_count": 112,
      "outputs": [
        {
          "output_type": "stream",
          "text": [
            "The accuracy of the optimised Viterbi Algorithm on the  test data: 0.856353591160221\n"
          ],
          "name": "stdout"
        }
      ]
    },
    {
      "cell_type": "code",
      "metadata": {
        "colab": {
          "base_uri": "https://localhost:8080/"
        },
        "id": "ZDTITAijf1mF",
        "outputId": "1751dbf4-f090-4304-8758-50257a545172"
      },
      "source": [
        "# tagging the test sentences\n",
        "Viterbi_trigram_bigram_test_tagged_seq = ViterbiBackedupTrigramBigramTagger(test_tagged_words)\n",
        "\n",
        "# Let's check the accuracy of the vanilla viterbi algorithm\n",
        "sample_test_check = [i for i, j in zip(Viterbi_trigram_bigram_test_tagged_seq, test_run_base) if i == j]\n",
        "\n",
        "viterbi_trigram_bigram_accuracy_test_data = len(sample_test_check)/len(Viterbi_trigram_bigram_test_tagged_seq)\n",
        "\n",
        "print(\"The accuracy of the viterbi trigram Bigram Algorithm on the test data:\", viterbi_trigram_bigram_accuracy_test_data)"
      ],
      "execution_count": 118,
      "outputs": [
        {
          "output_type": "stream",
          "text": [
            "The accuracy of the viterbi trigram Bigram Algorithm on the test data: 0.9281767955801105\n"
          ],
          "name": "stdout"
        }
      ]
    },
    {
      "cell_type": "code",
      "metadata": {
        "colab": {
          "base_uri": "https://localhost:8080/",
          "height": 172
        },
        "id": "WrYpd-NmgvbU",
        "outputId": "953e1e62-9e5d-4076-8367-e071aafe8af3"
      },
      "source": [
        "acccuracy_test_data = [['Vanilla Viterbi', vanilla_viterbi_accuracy_test_data*100], \n",
        "                  ['Optimized Vanilla Viterbi', optimised_viterbi_accuracy_test_data*100], \n",
        "                  ['Viterbi + Trigram Bigram tagger', viterbi_trigram_bigram_accuracy_test_data*100]]\n",
        "\n",
        "sample_test_data_acccuracy_df = pd.DataFrame(acccuracy_test_data, columns = ['Tagging_Algorithm', 'Tagging_Accuracy'])\n",
        "\n",
        "sample_test_data_acccuracy_df.set_index('Tagging_Algorithm', drop = True, inplace = True)\n",
        "\n",
        "sample_test_data_acccuracy_df\n"
      ],
      "execution_count": 119,
      "outputs": [
        {
          "output_type": "execute_result",
          "data": {
            "text/html": [
              "<div>\n",
              "<style scoped>\n",
              "    .dataframe tbody tr th:only-of-type {\n",
              "        vertical-align: middle;\n",
              "    }\n",
              "\n",
              "    .dataframe tbody tr th {\n",
              "        vertical-align: top;\n",
              "    }\n",
              "\n",
              "    .dataframe thead th {\n",
              "        text-align: right;\n",
              "    }\n",
              "</style>\n",
              "<table border=\"1\" class=\"dataframe\">\n",
              "  <thead>\n",
              "    <tr style=\"text-align: right;\">\n",
              "      <th></th>\n",
              "      <th>Tagging_Accuracy</th>\n",
              "    </tr>\n",
              "    <tr>\n",
              "      <th>Tagging_Algorithm</th>\n",
              "      <th></th>\n",
              "    </tr>\n",
              "  </thead>\n",
              "  <tbody>\n",
              "    <tr>\n",
              "      <th>Vanilla Viterbi</th>\n",
              "      <td>74.585635</td>\n",
              "    </tr>\n",
              "    <tr>\n",
              "      <th>Optimized Vanilla Viterbi</th>\n",
              "      <td>85.635359</td>\n",
              "    </tr>\n",
              "    <tr>\n",
              "      <th>Viterbi + Trigram Bigram tagger</th>\n",
              "      <td>92.817680</td>\n",
              "    </tr>\n",
              "  </tbody>\n",
              "</table>\n",
              "</div>"
            ],
            "text/plain": [
              "                                 Tagging_Accuracy\n",
              "Tagging_Algorithm                                \n",
              "Vanilla Viterbi                         74.585635\n",
              "Optimized Vanilla Viterbi               85.635359\n",
              "Viterbi + Trigram Bigram tagger         92.817680"
            ]
          },
          "metadata": {
            "tags": []
          },
          "execution_count": 119
        }
      ]
    },
    {
      "cell_type": "code",
      "metadata": {
        "colab": {
          "base_uri": "https://localhost:8080/",
          "height": 449
        },
        "id": "K6qYPq0lhmnn",
        "outputId": "3f26c6f9-531e-40ca-db00-357ef979099a"
      },
      "source": [
        "sample_test_data_acccuracy_df.plot.line(rot = 90, legend = False)\n"
      ],
      "execution_count": 120,
      "outputs": [
        {
          "output_type": "execute_result",
          "data": {
            "text/plain": [
              "<matplotlib.axes._subplots.AxesSubplot at 0x7f10aeee5210>"
            ]
          },
          "metadata": {
            "tags": []
          },
          "execution_count": 120
        },
        {
          "output_type": "display_data",
          "data": {
            "image/png": "[encoded data removed]",
            "text/plain": [
              "<Figure size 432x288 with 1 Axes>"
            ]
          },
          "metadata": {
            "tags": [],
            "needs_background": "light"
          }
        }
      ]
    },
    {
      "cell_type": "markdown",
      "metadata": {
        "id": "xGiX2_wit4bo"
      },
      "source": [
        "### List down cases which were incorrectly tagged by original POS tagger and got corrected by your modifications"
      ]
    },
    {
      "cell_type": "markdown",
      "metadata": {
        "id": "apj9qcj6wCYt"
      },
      "source": [
        "### **CASE 1**"
      ]
    },
    {
      "cell_type": "code",
      "metadata": {
        "id": "xcZTRKkat4bo",
        "colab": {
          "base_uri": "https://localhost:8080/"
        },
        "outputId": "47f8502e-7d8c-418f-e878-fe6cc5ae6bb4"
      },
      "source": [
        "test_sentence_2='Android has been the best-selling OS worldwide on smartphones since 2011 and on tablets since 2013.'\n",
        "test_words = word_tokenize(test_sentence_2)\n",
        "Viterbi_test_tagged_seq_2 = Viterbi(test_words)\n",
        "\n",
        "print(\"Tagging sequence with Vanilla_Viterbi -\\n\\n\", Viterbi_test_tagged_seq_2)\n",
        "\n",
        "print('\\n')\n",
        "\n",
        "print('*'*100)\n",
        "\n",
        "Viterbi_optimised_test_tagged_seq_2 = ViterbiForUnknownWords(test_words)\n",
        "print(\"Tagging sequence with Optimised Viterbi -\\n\\n\", Viterbi_optimised_test_tagged_seq_2)\n",
        "\n",
        "print('\\n')\n",
        "\n",
        "print('*'*100)\n",
        "\n",
        "Viterbi_trigram_bigram_test_tagged_seq_2 = ViterbiBackedupTrigramBigramTagger(test_words)\n",
        "print(\"Tagging sequence with Viterbi backed trigram + bigram -\\n\\n\", Viterbi_trigram_bigram_test_tagged_seq_2)\n",
        "\n",
        "print('\\n')\n",
        "\n",
        "print('*'*100)\n",
        "\n"
      ],
      "execution_count": 137,
      "outputs": [
        {
          "output_type": "stream",
          "text": [
            "Tagging sequence with Vanilla_Viterbi -\n",
            "\n",
            " [('Android', 'DET'), ('has', 'VERB'), ('been', 'VERB'), ('the', 'DET'), ('best-selling', 'ADJ'), ('OS', 'DET'), ('worldwide', 'DET'), ('on', 'ADP'), ('smartphones', 'DET'), ('since', 'ADP'), ('2011', 'DET'), ('and', 'CONJ'), ('on', 'ADP'), ('tablets', 'NOUN'), ('since', 'ADP'), ('2013', 'DET'), ('.', '.')]\n",
            "\n",
            "\n",
            "****************************************************************************************************\n",
            "Tagging sequence with Optimised Viterbi -\n",
            "\n",
            " [('Android', 'NOUN'), ('has', 'VERB'), ('been', 'VERB'), ('the', 'DET'), ('best-selling', 'ADJ'), ('OS', 'NOUN'), ('worldwide', 'NOUN'), ('on', 'ADP'), ('smartphones', 'DET'), ('since', 'ADP'), ('2011', 'DET'), ('and', 'CONJ'), ('on', 'ADP'), ('tablets', 'NOUN'), ('since', 'ADP'), ('2013', 'DET'), ('.', '.')]\n",
            "\n",
            "\n",
            "****************************************************************************************************\n",
            "Tagging sequence with Viterbi backed trigram + bigram -\n",
            "\n",
            " [('Android', 'NOUN'), ('has', 'VERB'), ('been', 'VERB'), ('the', 'DET'), ('best-selling', 'ADJ'), ('OS', 'NOUN'), ('worldwide', 'NOUN'), ('on', 'ADP'), ('smartphones', 'VERB'), ('since', 'ADP'), ('2011', 'NUM'), ('and', 'CONJ'), ('on', 'ADP'), ('tablets', 'NOUN'), ('since', 'ADP'), ('2013', 'NUM'), ('.', '.')]\n",
            "\n",
            "\n",
            "****************************************************************************************************\n"
          ],
          "name": "stdout"
        }
      ]
    },
    {
      "cell_type": "code",
      "metadata": {
        "colab": {
          "base_uri": "https://localhost:8080/",
          "height": 573
        },
        "id": "oTN06l8CulPP",
        "outputId": "865587c6-b0cd-447c-951b-4d823cfd4af5"
      },
      "source": [
        "tags_correction_df_2 = pd.DataFrame(columns = ['vanilla_viterbi', 'viterbi_trigram_corrections'])\n",
        "tags_correction_df_2 = tags_correction_df_2.fillna(0)\n",
        "\n",
        "tags_correction_df_2.vanilla_viterbi = [tup for tup in Viterbi_test_tagged_seq_2]\n",
        "tags_correction_df_2.viterbi_trigram_corrections = [tup for tup in Viterbi_trigram_bigram_test_tagged_seq_2]\n",
        "\n",
        "tags_correction_df_2\n"
      ],
      "execution_count": 138,
      "outputs": [
        {
          "output_type": "execute_result",
          "data": {
            "text/html": [
              "<div>\n",
              "<style scoped>\n",
              "    .dataframe tbody tr th:only-of-type {\n",
              "        vertical-align: middle;\n",
              "    }\n",
              "\n",
              "    .dataframe tbody tr th {\n",
              "        vertical-align: top;\n",
              "    }\n",
              "\n",
              "    .dataframe thead th {\n",
              "        text-align: right;\n",
              "    }\n",
              "</style>\n",
              "<table border=\"1\" class=\"dataframe\">\n",
              "  <thead>\n",
              "    <tr style=\"text-align: right;\">\n",
              "      <th></th>\n",
              "      <th>vanilla_viterbi</th>\n",
              "      <th>viterbi_trigram_corrections</th>\n",
              "    </tr>\n",
              "  </thead>\n",
              "  <tbody>\n",
              "    <tr>\n",
              "      <th>0</th>\n",
              "      <td>(Android, DET)</td>\n",
              "      <td>(Android, NOUN)</td>\n",
              "    </tr>\n",
              "    <tr>\n",
              "      <th>1</th>\n",
              "      <td>(has, VERB)</td>\n",
              "      <td>(has, VERB)</td>\n",
              "    </tr>\n",
              "    <tr>\n",
              "      <th>2</th>\n",
              "      <td>(been, VERB)</td>\n",
              "      <td>(been, VERB)</td>\n",
              "    </tr>\n",
              "    <tr>\n",
              "      <th>3</th>\n",
              "      <td>(the, DET)</td>\n",
              "      <td>(the, DET)</td>\n",
              "    </tr>\n",
              "    <tr>\n",
              "      <th>4</th>\n",
              "      <td>(best-selling, ADJ)</td>\n",
              "      <td>(best-selling, ADJ)</td>\n",
              "    </tr>\n",
              "    <tr>\n",
              "      <th>5</th>\n",
              "      <td>(OS, DET)</td>\n",
              "      <td>(OS, NOUN)</td>\n",
              "    </tr>\n",
              "    <tr>\n",
              "      <th>6</th>\n",
              "      <td>(worldwide, DET)</td>\n",
              "      <td>(worldwide, NOUN)</td>\n",
              "    </tr>\n",
              "    <tr>\n",
              "      <th>7</th>\n",
              "      <td>(on, ADP)</td>\n",
              "      <td>(on, ADP)</td>\n",
              "    </tr>\n",
              "    <tr>\n",
              "      <th>8</th>\n",
              "      <td>(smartphones, DET)</td>\n",
              "      <td>(smartphones, VERB)</td>\n",
              "    </tr>\n",
              "    <tr>\n",
              "      <th>9</th>\n",
              "      <td>(since, ADP)</td>\n",
              "      <td>(since, ADP)</td>\n",
              "    </tr>\n",
              "    <tr>\n",
              "      <th>10</th>\n",
              "      <td>(2011, DET)</td>\n",
              "      <td>(2011, NUM)</td>\n",
              "    </tr>\n",
              "    <tr>\n",
              "      <th>11</th>\n",
              "      <td>(and, CONJ)</td>\n",
              "      <td>(and, CONJ)</td>\n",
              "    </tr>\n",
              "    <tr>\n",
              "      <th>12</th>\n",
              "      <td>(on, ADP)</td>\n",
              "      <td>(on, ADP)</td>\n",
              "    </tr>\n",
              "    <tr>\n",
              "      <th>13</th>\n",
              "      <td>(tablets, NOUN)</td>\n",
              "      <td>(tablets, NOUN)</td>\n",
              "    </tr>\n",
              "    <tr>\n",
              "      <th>14</th>\n",
              "      <td>(since, ADP)</td>\n",
              "      <td>(since, ADP)</td>\n",
              "    </tr>\n",
              "    <tr>\n",
              "      <th>15</th>\n",
              "      <td>(2013, DET)</td>\n",
              "      <td>(2013, NUM)</td>\n",
              "    </tr>\n",
              "    <tr>\n",
              "      <th>16</th>\n",
              "      <td>(., .)</td>\n",
              "      <td>(., .)</td>\n",
              "    </tr>\n",
              "  </tbody>\n",
              "</table>\n",
              "</div>"
            ],
            "text/plain": [
              "        vanilla_viterbi viterbi_trigram_corrections\n",
              "0        (Android, DET)             (Android, NOUN)\n",
              "1           (has, VERB)                 (has, VERB)\n",
              "2          (been, VERB)                (been, VERB)\n",
              "3            (the, DET)                  (the, DET)\n",
              "4   (best-selling, ADJ)         (best-selling, ADJ)\n",
              "5             (OS, DET)                  (OS, NOUN)\n",
              "6      (worldwide, DET)           (worldwide, NOUN)\n",
              "7             (on, ADP)                   (on, ADP)\n",
              "8    (smartphones, DET)         (smartphones, VERB)\n",
              "9          (since, ADP)                (since, ADP)\n",
              "10          (2011, DET)                 (2011, NUM)\n",
              "11          (and, CONJ)                 (and, CONJ)\n",
              "12            (on, ADP)                   (on, ADP)\n",
              "13      (tablets, NOUN)             (tablets, NOUN)\n",
              "14         (since, ADP)                (since, ADP)\n",
              "15          (2013, DET)                 (2013, NUM)\n",
              "16               (., .)                      (., .)"
            ]
          },
          "metadata": {
            "tags": []
          },
          "execution_count": 138
        }
      ]
    },
    {
      "cell_type": "markdown",
      "metadata": {
        "id": "lF4YatZYwMsm"
      },
      "source": [
        "### CASE 2"
      ]
    },
    {
      "cell_type": "code",
      "metadata": {
        "id": "2i3BHoFft4bp",
        "colab": {
          "base_uri": "https://localhost:8080/"
        },
        "outputId": "c51a9255-b7c0-4595-cb53-8305978a6b83"
      },
      "source": [
        "test_sentence_4='Twitter is an online news and social networking service on which users post and interact with messages known as tweets.'\n",
        "test_words = word_tokenize(test_sentence_4)\n",
        "Viterbi_test_tagged_seq_4 = Viterbi(test_words)\n",
        "\n",
        "\n",
        "print(\"Tagging sequence with Vanilla_Viterbi -\\n\\n\", Viterbi_test_tagged_seq_4)\n",
        "\n",
        "print('\\n')\n",
        "\n",
        "print('*'*100)\n",
        "\n",
        "Viterbi_optimised_test_tagged_seq_4 = ViterbiForUnknownWords(test_words)\n",
        "print(\"Tagging sequence with Optimised Viterbi -\\n\\n\", Viterbi_optimised_test_tagged_seq_4)\n",
        "\n",
        "print('\\n')\n",
        "\n",
        "print('*'*100)\n",
        "\n",
        "Viterbi_trigram_bigram_test_tagged_seq_4 = ViterbiBackedupTrigramBigramTagger(test_words)\n",
        "print(\"Tagging sequence with Viterbi backed trigram + bigram -\\n\\n\", Viterbi_trigram_bigram_test_tagged_seq_4)\n",
        "\n",
        "print('\\n')\n",
        "\n",
        "print('*'*100)"
      ],
      "execution_count": 132,
      "outputs": [
        {
          "output_type": "stream",
          "text": [
            "Tagging sequence with Vanilla_Viterbi -\n",
            "\n",
            " [('Twitter', 'DET'), ('is', 'VERB'), ('an', 'DET'), ('online', 'DET'), ('news', 'NOUN'), ('and', 'CONJ'), ('social', 'ADJ'), ('networking', 'NOUN'), ('service', 'NOUN'), ('on', 'ADP'), ('which', 'DET'), ('users', 'NOUN'), ('post', 'NOUN'), ('and', 'CONJ'), ('interact', 'DET'), ('with', 'ADP'), ('messages', 'DET'), ('known', 'ADJ'), ('as', 'ADP'), ('tweets', 'DET'), ('.', '.')]\n",
            "\n",
            "\n",
            "****************************************************************************************************\n",
            "Tagging sequence with Optimised Viterbi -\n",
            "\n",
            " [('Twitter', 'NOUN'), ('is', 'VERB'), ('an', 'DET'), ('online', 'NOUN'), ('news', 'NOUN'), ('and', 'CONJ'), ('social', 'ADJ'), ('networking', 'NOUN'), ('service', 'NOUN'), ('on', 'ADP'), ('which', 'DET'), ('users', 'NOUN'), ('post', 'NOUN'), ('and', 'CONJ'), ('interact', 'NOUN'), ('with', 'ADP'), ('messages', 'DET'), ('known', 'ADJ'), ('as', 'ADP'), ('tweets', 'DET'), ('.', '.')]\n",
            "\n",
            "\n",
            "****************************************************************************************************\n",
            "Tagging sequence with Viterbi backed trigram + bigram -\n",
            "\n",
            " [('Twitter', 'NOUN'), ('is', 'VERB'), ('an', 'DET'), ('online', 'NOUN'), ('news', 'NOUN'), ('and', 'CONJ'), ('social', 'ADJ'), ('networking', 'NOUN'), ('service', 'NOUN'), ('on', 'ADP'), ('which', 'DET'), ('users', 'NOUN'), ('post', 'NOUN'), ('and', 'CONJ'), ('interact', 'NOUN'), ('with', 'ADP'), ('messages', 'VERB'), ('known', 'VERB'), ('as', 'ADP'), ('tweets', 'NOUN'), ('.', '.')]\n",
            "\n",
            "\n",
            "****************************************************************************************************\n"
          ],
          "name": "stdout"
        }
      ]
    },
    {
      "cell_type": "code",
      "metadata": {
        "colab": {
          "base_uri": "https://localhost:8080/",
          "height": 696
        },
        "id": "u4VEGobZuIAi",
        "outputId": "6963c692-21f6-4662-bd0d-ddb5e4b3d2cc"
      },
      "source": [
        "tags_correction_df_4 = pd.DataFrame(columns = ['vanilla_viterbi', 'viterbi_trigram_corrections'])\n",
        "tags_correction_df_4 = tags_correction_df_4.fillna(0)\n",
        "\n",
        "tags_correction_df_4.vanilla_viterbi = [tup for tup in Viterbi_test_tagged_seq_4]\n",
        "tags_correction_df_4.viterbi_trigram_corrections = [tup for tup in Viterbi_trigram_bigram_test_tagged_seq_4]\n",
        "\n",
        "tags_correction_df_4\n"
      ],
      "execution_count": 133,
      "outputs": [
        {
          "output_type": "execute_result",
          "data": {
            "text/html": [
              "<div>\n",
              "<style scoped>\n",
              "    .dataframe tbody tr th:only-of-type {\n",
              "        vertical-align: middle;\n",
              "    }\n",
              "\n",
              "    .dataframe tbody tr th {\n",
              "        vertical-align: top;\n",
              "    }\n",
              "\n",
              "    .dataframe thead th {\n",
              "        text-align: right;\n",
              "    }\n",
              "</style>\n",
              "<table border=\"1\" class=\"dataframe\">\n",
              "  <thead>\n",
              "    <tr style=\"text-align: right;\">\n",
              "      <th></th>\n",
              "      <th>vanilla_viterbi</th>\n",
              "      <th>viterbi_trigram_corrections</th>\n",
              "    </tr>\n",
              "  </thead>\n",
              "  <tbody>\n",
              "    <tr>\n",
              "      <th>0</th>\n",
              "      <td>(Twitter, DET)</td>\n",
              "      <td>(Twitter, NOUN)</td>\n",
              "    </tr>\n",
              "    <tr>\n",
              "      <th>1</th>\n",
              "      <td>(is, VERB)</td>\n",
              "      <td>(is, VERB)</td>\n",
              "    </tr>\n",
              "    <tr>\n",
              "      <th>2</th>\n",
              "      <td>(an, DET)</td>\n",
              "      <td>(an, DET)</td>\n",
              "    </tr>\n",
              "    <tr>\n",
              "      <th>3</th>\n",
              "      <td>(online, DET)</td>\n",
              "      <td>(online, NOUN)</td>\n",
              "    </tr>\n",
              "    <tr>\n",
              "      <th>4</th>\n",
              "      <td>(news, NOUN)</td>\n",
              "      <td>(news, NOUN)</td>\n",
              "    </tr>\n",
              "    <tr>\n",
              "      <th>5</th>\n",
              "      <td>(and, CONJ)</td>\n",
              "      <td>(and, CONJ)</td>\n",
              "    </tr>\n",
              "    <tr>\n",
              "      <th>6</th>\n",
              "      <td>(social, ADJ)</td>\n",
              "      <td>(social, ADJ)</td>\n",
              "    </tr>\n",
              "    <tr>\n",
              "      <th>7</th>\n",
              "      <td>(networking, NOUN)</td>\n",
              "      <td>(networking, NOUN)</td>\n",
              "    </tr>\n",
              "    <tr>\n",
              "      <th>8</th>\n",
              "      <td>(service, NOUN)</td>\n",
              "      <td>(service, NOUN)</td>\n",
              "    </tr>\n",
              "    <tr>\n",
              "      <th>9</th>\n",
              "      <td>(on, ADP)</td>\n",
              "      <td>(on, ADP)</td>\n",
              "    </tr>\n",
              "    <tr>\n",
              "      <th>10</th>\n",
              "      <td>(which, DET)</td>\n",
              "      <td>(which, DET)</td>\n",
              "    </tr>\n",
              "    <tr>\n",
              "      <th>11</th>\n",
              "      <td>(users, NOUN)</td>\n",
              "      <td>(users, NOUN)</td>\n",
              "    </tr>\n",
              "    <tr>\n",
              "      <th>12</th>\n",
              "      <td>(post, NOUN)</td>\n",
              "      <td>(post, NOUN)</td>\n",
              "    </tr>\n",
              "    <tr>\n",
              "      <th>13</th>\n",
              "      <td>(and, CONJ)</td>\n",
              "      <td>(and, CONJ)</td>\n",
              "    </tr>\n",
              "    <tr>\n",
              "      <th>14</th>\n",
              "      <td>(interact, DET)</td>\n",
              "      <td>(interact, NOUN)</td>\n",
              "    </tr>\n",
              "    <tr>\n",
              "      <th>15</th>\n",
              "      <td>(with, ADP)</td>\n",
              "      <td>(with, ADP)</td>\n",
              "    </tr>\n",
              "    <tr>\n",
              "      <th>16</th>\n",
              "      <td>(messages, DET)</td>\n",
              "      <td>(messages, VERB)</td>\n",
              "    </tr>\n",
              "    <tr>\n",
              "      <th>17</th>\n",
              "      <td>(known, ADJ)</td>\n",
              "      <td>(known, VERB)</td>\n",
              "    </tr>\n",
              "    <tr>\n",
              "      <th>18</th>\n",
              "      <td>(as, ADP)</td>\n",
              "      <td>(as, ADP)</td>\n",
              "    </tr>\n",
              "    <tr>\n",
              "      <th>19</th>\n",
              "      <td>(tweets, DET)</td>\n",
              "      <td>(tweets, NOUN)</td>\n",
              "    </tr>\n",
              "    <tr>\n",
              "      <th>20</th>\n",
              "      <td>(., .)</td>\n",
              "      <td>(., .)</td>\n",
              "    </tr>\n",
              "  </tbody>\n",
              "</table>\n",
              "</div>"
            ],
            "text/plain": [
              "       vanilla_viterbi viterbi_trigram_corrections\n",
              "0       (Twitter, DET)             (Twitter, NOUN)\n",
              "1           (is, VERB)                  (is, VERB)\n",
              "2            (an, DET)                   (an, DET)\n",
              "3        (online, DET)              (online, NOUN)\n",
              "4         (news, NOUN)                (news, NOUN)\n",
              "5          (and, CONJ)                 (and, CONJ)\n",
              "6        (social, ADJ)               (social, ADJ)\n",
              "7   (networking, NOUN)          (networking, NOUN)\n",
              "8      (service, NOUN)             (service, NOUN)\n",
              "9            (on, ADP)                   (on, ADP)\n",
              "10        (which, DET)                (which, DET)\n",
              "11       (users, NOUN)               (users, NOUN)\n",
              "12        (post, NOUN)                (post, NOUN)\n",
              "13         (and, CONJ)                 (and, CONJ)\n",
              "14     (interact, DET)            (interact, NOUN)\n",
              "15         (with, ADP)                 (with, ADP)\n",
              "16     (messages, DET)            (messages, VERB)\n",
              "17        (known, ADJ)               (known, VERB)\n",
              "18           (as, ADP)                   (as, ADP)\n",
              "19       (tweets, DET)              (tweets, NOUN)\n",
              "20              (., .)                      (., .)"
            ]
          },
          "metadata": {
            "tags": []
          },
          "execution_count": 133
        }
      ]
    },
    {
      "cell_type": "markdown",
      "metadata": {
        "id": "YIjP4VVzwSNL"
      },
      "source": [
        "### CASE 3"
      ]
    },
    {
      "cell_type": "code",
      "metadata": {
        "colab": {
          "base_uri": "https://localhost:8080/"
        },
        "id": "J07rjmU4rIR8",
        "outputId": "c26eb6cd-4d54-4133-aab9-574b6f5b1d21"
      },
      "source": [
        "test_sentence_6='The 2018 FIFA World Cup is the 21st FIFA World Cup, an international football tournament contested once every four years.'\n",
        "test_words = word_tokenize(test_sentence_6)\n",
        "Viterbi_test_tagged_seq_6 = Viterbi(test_words)\n",
        "\n",
        "print(\"Tagging sequence with Vanilla_Viterbi -\\n\\n\", Viterbi_test_tagged_seq)\n",
        "\n",
        "print('\\n')\n",
        "\n",
        "print('*'*100)\n",
        "\n",
        "Viterbi_optimised_test_tagged_seq_6 = ViterbiForUnknownWords(test_words)\n",
        "print(\"Tagging sequence with Optimised Viterbi -\\n\\n\", Viterbi_optimised_test_tagged_seq)\n",
        "\n",
        "print('\\n')\n",
        "\n",
        "print('*'*100)\n",
        "\n",
        "Viterbi_trigram_bigram_test_tagged_seq_6 = ViterbiBackedupTrigramBigramTagger(test_words)\n",
        "print(\"Tagging sequence with Viterbi backed trigram + bigram -\\n\\n\", Viterbi_trigram_bigram_test_tagged_seq)\n",
        "\n",
        "print('\\n')\n",
        "\n",
        "print('*'*100)\n",
        "\n"
      ],
      "execution_count": 129,
      "outputs": [
        {
          "output_type": "stream",
          "text": [
            "Tagging sequence with Vanilla_Viterbi -\n",
            "\n",
            " [('The', 'DET'), ('2018', 'DET'), ('FIFA', 'DET'), ('World', 'NOUN'), ('Cup', 'DET'), ('is', 'VERB'), ('the', 'DET'), ('21st', 'DET'), ('FIFA', 'DET'), ('World', 'NOUN'), ('Cup', 'DET'), (',', '.'), ('an', 'DET'), ('international', 'ADJ'), ('football', 'NOUN'), ('tournament', 'DET'), ('contested', 'DET'), ('once', 'ADV'), ('every', 'DET'), ('four', 'NUM'), ('years', 'NOUN'), ('.', '.')]\n",
            "\n",
            "\n",
            "****************************************************************************************************\n",
            "Tagging sequence with Optimised Viterbi -\n",
            "\n",
            " [('The', 'DET'), ('2018', 'NOUN'), ('FIFA', 'NOUN'), ('World', 'NOUN'), ('Cup', 'NOUN'), ('is', 'VERB'), ('the', 'DET'), ('21st', 'NOUN'), ('FIFA', 'NOUN'), ('World', 'NOUN'), ('Cup', 'NOUN'), (',', '.'), ('an', 'DET'), ('international', 'ADJ'), ('football', 'NOUN'), ('tournament', 'NOUN'), ('contested', 'NOUN'), ('once', 'ADV'), ('every', 'DET'), ('four', 'NUM'), ('years', 'NOUN'), ('.', '.')]\n",
            "\n",
            "\n",
            "****************************************************************************************************\n",
            "Tagging sequence with Viterbi backed trigram + bigram -\n",
            "\n",
            " [('The', 'DET'), ('2018', 'NUM'), ('FIFA', 'NOUN'), ('World', 'NOUN'), ('Cup', 'NOUN'), ('is', 'VERB'), ('the', 'DET'), ('21st', 'NUM'), ('FIFA', 'NOUN'), ('World', 'NOUN'), ('Cup', 'NOUN'), (',', '.'), ('an', 'DET'), ('international', 'ADJ'), ('football', 'NOUN'), ('tournament', 'NOUN'), ('contested', 'VERB'), ('once', 'ADV'), ('every', 'DET'), ('four', 'NUM'), ('years', 'NOUN'), ('.', '.')]\n",
            "\n",
            "\n",
            "****************************************************************************************************\n"
          ],
          "name": "stdout"
        }
      ]
    },
    {
      "cell_type": "code",
      "metadata": {
        "colab": {
          "base_uri": "https://localhost:8080/",
          "height": 726
        },
        "id": "qebpGFN8tWe6",
        "outputId": "d81bbcaa-969d-45a1-a211-e49fd0075fe8"
      },
      "source": [
        "tags_correction_df_6 = pd.DataFrame(columns = ['vanilla_viterbi', 'viterbi_trigram_corrections'])\n",
        "tags_correction_df_6 = tags_correction_df_6.fillna(0)\n",
        "\n",
        "tags_correction_df_6.vanilla_viterbi = [tup for tup in Viterbi_test_tagged_seq_6]\n",
        "tags_correction_df_6.viterbi_trigram_corrections = [tup for tup in Viterbi_trigram_bigram_test_tagged_seq_6]\n",
        "\n",
        "tags_correction_df_6\n"
      ],
      "execution_count": 131,
      "outputs": [
        {
          "output_type": "execute_result",
          "data": {
            "text/html": [
              "<div>\n",
              "<style scoped>\n",
              "    .dataframe tbody tr th:only-of-type {\n",
              "        vertical-align: middle;\n",
              "    }\n",
              "\n",
              "    .dataframe tbody tr th {\n",
              "        vertical-align: top;\n",
              "    }\n",
              "\n",
              "    .dataframe thead th {\n",
              "        text-align: right;\n",
              "    }\n",
              "</style>\n",
              "<table border=\"1\" class=\"dataframe\">\n",
              "  <thead>\n",
              "    <tr style=\"text-align: right;\">\n",
              "      <th></th>\n",
              "      <th>vanilla_viterbi</th>\n",
              "      <th>viterbi_trigram_corrections</th>\n",
              "    </tr>\n",
              "  </thead>\n",
              "  <tbody>\n",
              "    <tr>\n",
              "      <th>0</th>\n",
              "      <td>(The, DET)</td>\n",
              "      <td>(The, DET)</td>\n",
              "    </tr>\n",
              "    <tr>\n",
              "      <th>1</th>\n",
              "      <td>(2018, DET)</td>\n",
              "      <td>(2018, NUM)</td>\n",
              "    </tr>\n",
              "    <tr>\n",
              "      <th>2</th>\n",
              "      <td>(FIFA, DET)</td>\n",
              "      <td>(FIFA, NOUN)</td>\n",
              "    </tr>\n",
              "    <tr>\n",
              "      <th>3</th>\n",
              "      <td>(World, NOUN)</td>\n",
              "      <td>(World, NOUN)</td>\n",
              "    </tr>\n",
              "    <tr>\n",
              "      <th>4</th>\n",
              "      <td>(Cup, DET)</td>\n",
              "      <td>(Cup, NOUN)</td>\n",
              "    </tr>\n",
              "    <tr>\n",
              "      <th>5</th>\n",
              "      <td>(is, VERB)</td>\n",
              "      <td>(is, VERB)</td>\n",
              "    </tr>\n",
              "    <tr>\n",
              "      <th>6</th>\n",
              "      <td>(the, DET)</td>\n",
              "      <td>(the, DET)</td>\n",
              "    </tr>\n",
              "    <tr>\n",
              "      <th>7</th>\n",
              "      <td>(21st, DET)</td>\n",
              "      <td>(21st, NUM)</td>\n",
              "    </tr>\n",
              "    <tr>\n",
              "      <th>8</th>\n",
              "      <td>(FIFA, DET)</td>\n",
              "      <td>(FIFA, NOUN)</td>\n",
              "    </tr>\n",
              "    <tr>\n",
              "      <th>9</th>\n",
              "      <td>(World, NOUN)</td>\n",
              "      <td>(World, NOUN)</td>\n",
              "    </tr>\n",
              "    <tr>\n",
              "      <th>10</th>\n",
              "      <td>(Cup, DET)</td>\n",
              "      <td>(Cup, NOUN)</td>\n",
              "    </tr>\n",
              "    <tr>\n",
              "      <th>11</th>\n",
              "      <td>(,, .)</td>\n",
              "      <td>(,, .)</td>\n",
              "    </tr>\n",
              "    <tr>\n",
              "      <th>12</th>\n",
              "      <td>(an, DET)</td>\n",
              "      <td>(an, DET)</td>\n",
              "    </tr>\n",
              "    <tr>\n",
              "      <th>13</th>\n",
              "      <td>(international, ADJ)</td>\n",
              "      <td>(international, ADJ)</td>\n",
              "    </tr>\n",
              "    <tr>\n",
              "      <th>14</th>\n",
              "      <td>(football, NOUN)</td>\n",
              "      <td>(football, NOUN)</td>\n",
              "    </tr>\n",
              "    <tr>\n",
              "      <th>15</th>\n",
              "      <td>(tournament, DET)</td>\n",
              "      <td>(tournament, NOUN)</td>\n",
              "    </tr>\n",
              "    <tr>\n",
              "      <th>16</th>\n",
              "      <td>(contested, DET)</td>\n",
              "      <td>(contested, VERB)</td>\n",
              "    </tr>\n",
              "    <tr>\n",
              "      <th>17</th>\n",
              "      <td>(once, ADV)</td>\n",
              "      <td>(once, ADV)</td>\n",
              "    </tr>\n",
              "    <tr>\n",
              "      <th>18</th>\n",
              "      <td>(every, DET)</td>\n",
              "      <td>(every, DET)</td>\n",
              "    </tr>\n",
              "    <tr>\n",
              "      <th>19</th>\n",
              "      <td>(four, NUM)</td>\n",
              "      <td>(four, NUM)</td>\n",
              "    </tr>\n",
              "    <tr>\n",
              "      <th>20</th>\n",
              "      <td>(years, NOUN)</td>\n",
              "      <td>(years, NOUN)</td>\n",
              "    </tr>\n",
              "    <tr>\n",
              "      <th>21</th>\n",
              "      <td>(., .)</td>\n",
              "      <td>(., .)</td>\n",
              "    </tr>\n",
              "  </tbody>\n",
              "</table>\n",
              "</div>"
            ],
            "text/plain": [
              "         vanilla_viterbi viterbi_trigram_corrections\n",
              "0             (The, DET)                  (The, DET)\n",
              "1            (2018, DET)                 (2018, NUM)\n",
              "2            (FIFA, DET)                (FIFA, NOUN)\n",
              "3          (World, NOUN)               (World, NOUN)\n",
              "4             (Cup, DET)                 (Cup, NOUN)\n",
              "5             (is, VERB)                  (is, VERB)\n",
              "6             (the, DET)                  (the, DET)\n",
              "7            (21st, DET)                 (21st, NUM)\n",
              "8            (FIFA, DET)                (FIFA, NOUN)\n",
              "9          (World, NOUN)               (World, NOUN)\n",
              "10            (Cup, DET)                 (Cup, NOUN)\n",
              "11                (,, .)                      (,, .)\n",
              "12             (an, DET)                   (an, DET)\n",
              "13  (international, ADJ)        (international, ADJ)\n",
              "14      (football, NOUN)            (football, NOUN)\n",
              "15     (tournament, DET)          (tournament, NOUN)\n",
              "16      (contested, DET)           (contested, VERB)\n",
              "17           (once, ADV)                 (once, ADV)\n",
              "18          (every, DET)                (every, DET)\n",
              "19           (four, NUM)                 (four, NUM)\n",
              "20         (years, NOUN)               (years, NOUN)\n",
              "21                (., .)                      (., .)"
            ]
          },
          "metadata": {
            "tags": []
          },
          "execution_count": 131
        }
      ]
    }
  ]
}